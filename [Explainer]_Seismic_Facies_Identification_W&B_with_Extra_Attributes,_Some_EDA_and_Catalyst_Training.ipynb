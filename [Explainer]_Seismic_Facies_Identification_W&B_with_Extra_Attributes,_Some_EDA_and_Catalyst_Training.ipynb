{
  "nbformat": 4,
  "nbformat_minor": 0,
  "metadata": {
    "accelerator": "GPU",
    "colab": {
      "name": "[Explainer] Seismic Facies Identification - W&B with Extra Attributes, Some EDA and Catalyst Training.ipynb",
      "provenance": [],
      "collapsed_sections": [],
      "authorship_tag": "ABX9TyO4Hd6BFLNHfY0Y985oekqx",
      "include_colab_link": true
    },
    "kernelspec": {
      "display_name": "Python 3",
      "name": "python3"
    },
    "language_info": {
      "name": "python"
    },
    "widgets": {
      "application/vnd.jupyter.widget-state+json": {
        "5398936b3ecf4306b8afe13314df57db": {
          "model_module": "@jupyter-widgets/controls",
          "model_name": "VBoxModel",
          "model_module_version": "1.5.0",
          "state": {
            "_view_name": "VBoxView",
            "_dom_classes": [],
            "_model_name": "VBoxModel",
            "_view_module": "@jupyter-widgets/controls",
            "_model_module_version": "1.5.0",
            "_view_count": null,
            "_view_module_version": "1.5.0",
            "box_style": "",
            "layout": "IPY_MODEL_e3080b90723541bab94b17ee4071a002",
            "_model_module": "@jupyter-widgets/controls",
            "children": [
              "IPY_MODEL_ab4b1c969e1541d2a504a3021c858793",
              "IPY_MODEL_840c261eb0344ad5840fd2863af1dd41"
            ]
          }
        },
        "e3080b90723541bab94b17ee4071a002": {
          "model_module": "@jupyter-widgets/base",
          "model_name": "LayoutModel",
          "model_module_version": "1.2.0",
          "state": {
            "_view_name": "LayoutView",
            "grid_template_rows": null,
            "right": null,
            "justify_content": null,
            "_view_module": "@jupyter-widgets/base",
            "overflow": null,
            "_model_module_version": "1.2.0",
            "_view_count": null,
            "flex_flow": null,
            "width": null,
            "min_width": null,
            "border": null,
            "align_items": null,
            "bottom": null,
            "_model_module": "@jupyter-widgets/base",
            "top": null,
            "grid_column": null,
            "overflow_y": null,
            "overflow_x": null,
            "grid_auto_flow": null,
            "grid_area": null,
            "grid_template_columns": null,
            "flex": null,
            "_model_name": "LayoutModel",
            "justify_items": null,
            "grid_row": null,
            "max_height": null,
            "align_content": null,
            "visibility": null,
            "align_self": null,
            "height": null,
            "min_height": null,
            "padding": null,
            "grid_auto_rows": null,
            "grid_gap": null,
            "max_width": null,
            "order": null,
            "_view_module_version": "1.2.0",
            "grid_template_areas": null,
            "object_position": null,
            "object_fit": null,
            "grid_auto_columns": null,
            "margin": null,
            "display": null,
            "left": null
          }
        },
        "ab4b1c969e1541d2a504a3021c858793": {
          "model_module": "@jupyter-widgets/controls",
          "model_name": "LabelModel",
          "model_module_version": "1.5.0",
          "state": {
            "_view_name": "LabelView",
            "style": "IPY_MODEL_7867325e79fe42cabeab87d2b61a1eaa",
            "_dom_classes": [],
            "description": "",
            "_model_name": "LabelModel",
            "placeholder": "​",
            "_view_module": "@jupyter-widgets/controls",
            "_model_module_version": "1.5.0",
            "value": " 0.01MB of 0.01MB uploaded (0.00MB deduped)\r",
            "_view_count": null,
            "_view_module_version": "1.5.0",
            "description_tooltip": null,
            "_model_module": "@jupyter-widgets/controls",
            "layout": "IPY_MODEL_46e9d2a60b9a4005a586c477d2318acf"
          }
        },
        "840c261eb0344ad5840fd2863af1dd41": {
          "model_module": "@jupyter-widgets/controls",
          "model_name": "FloatProgressModel",
          "model_module_version": "1.5.0",
          "state": {
            "_view_name": "ProgressView",
            "style": "IPY_MODEL_c1d37b1b8c684b26ada0a102a5b0a3ac",
            "_dom_classes": [],
            "description": "",
            "_model_name": "FloatProgressModel",
            "bar_style": "",
            "max": 1,
            "_view_module": "@jupyter-widgets/controls",
            "_model_module_version": "1.5.0",
            "value": 1,
            "_view_count": null,
            "_view_module_version": "1.5.0",
            "orientation": "horizontal",
            "min": 0,
            "description_tooltip": null,
            "_model_module": "@jupyter-widgets/controls",
            "layout": "IPY_MODEL_01324382d8a8426998d3d13b1da12a89"
          }
        },
        "7867325e79fe42cabeab87d2b61a1eaa": {
          "model_module": "@jupyter-widgets/controls",
          "model_name": "DescriptionStyleModel",
          "model_module_version": "1.5.0",
          "state": {
            "_view_name": "StyleView",
            "_model_name": "DescriptionStyleModel",
            "description_width": "",
            "_view_module": "@jupyter-widgets/base",
            "_model_module_version": "1.5.0",
            "_view_count": null,
            "_view_module_version": "1.2.0",
            "_model_module": "@jupyter-widgets/controls"
          }
        },
        "46e9d2a60b9a4005a586c477d2318acf": {
          "model_module": "@jupyter-widgets/base",
          "model_name": "LayoutModel",
          "model_module_version": "1.2.0",
          "state": {
            "_view_name": "LayoutView",
            "grid_template_rows": null,
            "right": null,
            "justify_content": null,
            "_view_module": "@jupyter-widgets/base",
            "overflow": null,
            "_model_module_version": "1.2.0",
            "_view_count": null,
            "flex_flow": null,
            "width": null,
            "min_width": null,
            "border": null,
            "align_items": null,
            "bottom": null,
            "_model_module": "@jupyter-widgets/base",
            "top": null,
            "grid_column": null,
            "overflow_y": null,
            "overflow_x": null,
            "grid_auto_flow": null,
            "grid_area": null,
            "grid_template_columns": null,
            "flex": null,
            "_model_name": "LayoutModel",
            "justify_items": null,
            "grid_row": null,
            "max_height": null,
            "align_content": null,
            "visibility": null,
            "align_self": null,
            "height": null,
            "min_height": null,
            "padding": null,
            "grid_auto_rows": null,
            "grid_gap": null,
            "max_width": null,
            "order": null,
            "_view_module_version": "1.2.0",
            "grid_template_areas": null,
            "object_position": null,
            "object_fit": null,
            "grid_auto_columns": null,
            "margin": null,
            "display": null,
            "left": null
          }
        },
        "c1d37b1b8c684b26ada0a102a5b0a3ac": {
          "model_module": "@jupyter-widgets/controls",
          "model_name": "ProgressStyleModel",
          "model_module_version": "1.5.0",
          "state": {
            "_view_name": "StyleView",
            "_model_name": "ProgressStyleModel",
            "description_width": "",
            "_view_module": "@jupyter-widgets/base",
            "_model_module_version": "1.5.0",
            "_view_count": null,
            "_view_module_version": "1.2.0",
            "bar_color": null,
            "_model_module": "@jupyter-widgets/controls"
          }
        },
        "01324382d8a8426998d3d13b1da12a89": {
          "model_module": "@jupyter-widgets/base",
          "model_name": "LayoutModel",
          "model_module_version": "1.2.0",
          "state": {
            "_view_name": "LayoutView",
            "grid_template_rows": null,
            "right": null,
            "justify_content": null,
            "_view_module": "@jupyter-widgets/base",
            "overflow": null,
            "_model_module_version": "1.2.0",
            "_view_count": null,
            "flex_flow": null,
            "width": null,
            "min_width": null,
            "border": null,
            "align_items": null,
            "bottom": null,
            "_model_module": "@jupyter-widgets/base",
            "top": null,
            "grid_column": null,
            "overflow_y": null,
            "overflow_x": null,
            "grid_auto_flow": null,
            "grid_area": null,
            "grid_template_columns": null,
            "flex": null,
            "_model_name": "LayoutModel",
            "justify_items": null,
            "grid_row": null,
            "max_height": null,
            "align_content": null,
            "visibility": null,
            "align_self": null,
            "height": null,
            "min_height": null,
            "padding": null,
            "grid_auto_rows": null,
            "grid_gap": null,
            "max_width": null,
            "order": null,
            "_view_module_version": "1.2.0",
            "grid_template_areas": null,
            "object_position": null,
            "object_fit": null,
            "grid_auto_columns": null,
            "margin": null,
            "display": null,
            "left": null
          }
        }
      }
    }
  },
  "cells": [
    {
      "cell_type": "markdown",
      "metadata": {
        "id": "view-in-github",
        "colab_type": "text"
      },
      "source": [
        "<a href=\"https://colab.research.google.com/github/jeromepatel/AIcrowd-challenges/blob/master/%5BExplainer%5D_Seismic_Facies_Identification_W%26B_with_Extra_Attributes%2C_Some_EDA_and_Catalyst_Training.ipynb\" target=\"_parent\"><img src=\"https://colab.research.google.com/assets/colab-badge.svg\" alt=\"Open In Colab\"/></a>"
      ]
    },
    {
      "cell_type": "markdown",
      "metadata": {
        "id": "IRdXPJFLqCv6"
      },
      "source": [
        "# Seismic Facies Identification Challenge - Explainer Notebook with Added Perks"
      ]
    },
    {
      "cell_type": "markdown",
      "metadata": {
        "id": "Tbj-NhCLrm45"
      },
      "source": [
        "In this notebook, we are going to look at Seismic Facies Identification challenge which is a 3D semantic segmentation problem and with some tweaking, can be converted into 2D semantic segmentation task. \n",
        "This notebook aims to give an idea about previous work (notebooks at [this]() page) and summarizes a few very basic EDA, extra attibutes ideas and finally introduces a flexible and systemic approach for training models and tracking progress. \n",
        "* <b>What is 2D semantic segmentation?</b> </br>\n",
        " In simple words, semantic segmentation is a image recognition challenge with some perks where each pixel a class needs to be identified and tagged instead of whole image, so what we get in the end is a mask the size of original image segmented into different classes. As we all know, it requires a lot of data, different tools are used to prepared the dataset for segmentation maps from images.  \n",
        "* what is w&B ?\n",
        "\n",
        "* What is smp and why we are using it ?\n",
        "* what is the need of preprocessing (in our case why augmentations and normalization)?\n",
        "\n",
        "* Why we do exploratory data analysis ?\n"
      ]
    },
    {
      "cell_type": "code",
      "metadata": {
        "colab": {
          "base_uri": "https://localhost:8080/"
        },
        "id": "_ieBLAEOFKgI",
        "outputId": "b932ebdb-93e9-4520-fc19-f73c37a6050b"
      },
      "source": [
        "#getting the dataset from the drive\n",
        "from google.colab import drive\n",
        "drive.mount('/content/gdrive/')"
      ],
      "execution_count": null,
      "outputs": [
        {
          "name": "stdout",
          "output_type": "stream",
          "text": [
            "Mounted at /content/gdrive/\n"
          ]
        }
      ]
    },
    {
      "cell_type": "code",
      "metadata": {
        "colab": {
          "base_uri": "https://localhost:8080/"
        },
        "id": "F0g09o0pFadO",
        "outputId": "5d61ec99-ab96-42e6-afd4-3ac1358901d8"
      },
      "source": [
        "!pip install segmentation_models_pytorch argus pytorch_toolbelt wandb catalyst --upgrade albumentations"
      ],
      "execution_count": null,
      "outputs": [
        {
          "name": "stdout",
          "output_type": "stream",
          "text": [
            "Requirement already satisfied: segmentation_models_pytorch in /usr/local/lib/python3.7/dist-packages (0.2.0)\n",
            "Requirement already satisfied: argus in /usr/local/lib/python3.7/dist-packages (0.0.11)\n",
            "Requirement already satisfied: pytorch_toolbelt in /usr/local/lib/python3.7/dist-packages (0.4.4)\n",
            "Requirement already satisfied: wandb in /usr/local/lib/python3.7/dist-packages (0.12.6)\n",
            "Collecting catalyst\n",
            "  Downloading catalyst-21.10-py2.py3-none-any.whl (576 kB)\n",
            "\u001b[K     |████████████████████████████████| 576 kB 5.0 MB/s \n",
            "\u001b[?25hRequirement already satisfied: albumentations in /usr/local/lib/python3.7/dist-packages (1.1.0)\n",
            "Requirement already satisfied: timm==0.4.12 in /usr/local/lib/python3.7/dist-packages (from segmentation_models_pytorch) (0.4.12)\n",
            "Requirement already satisfied: torchvision>=0.5.0 in /usr/local/lib/python3.7/dist-packages (from segmentation_models_pytorch) (0.10.0+cu111)\n",
            "Requirement already satisfied: pretrainedmodels==0.7.4 in /usr/local/lib/python3.7/dist-packages (from segmentation_models_pytorch) (0.7.4)\n",
            "Requirement already satisfied: efficientnet-pytorch==0.6.3 in /usr/local/lib/python3.7/dist-packages (from segmentation_models_pytorch) (0.6.3)\n",
            "Requirement already satisfied: torch in /usr/local/lib/python3.7/dist-packages (from efficientnet-pytorch==0.6.3->segmentation_models_pytorch) (1.9.0+cu111)\n",
            "Requirement already satisfied: tqdm in /usr/local/lib/python3.7/dist-packages (from pretrainedmodels==0.7.4->segmentation_models_pytorch) (4.62.3)\n",
            "Requirement already satisfied: munch in /usr/local/lib/python3.7/dist-packages (from pretrainedmodels==0.7.4->segmentation_models_pytorch) (2.5.0)\n",
            "Requirement already satisfied: typing-extensions in /usr/local/lib/python3.7/dist-packages (from torch->efficientnet-pytorch==0.6.3->segmentation_models_pytorch) (3.7.4.3)\n",
            "Requirement already satisfied: pillow>=5.3.0 in /usr/local/lib/python3.7/dist-packages (from torchvision>=0.5.0->segmentation_models_pytorch) (7.1.2)\n",
            "Requirement already satisfied: numpy in /usr/local/lib/python3.7/dist-packages (from torchvision>=0.5.0->segmentation_models_pytorch) (1.19.5)\n",
            "Requirement already satisfied: scipy>=0.19.1 in /usr/local/lib/python3.7/dist-packages (from argus) (1.4.1)\n",
            "Requirement already satisfied: pandas>=0.20.2 in /usr/local/lib/python3.7/dist-packages (from argus) (1.1.5)\n",
            "Requirement already satisfied: python-dateutil>=2.7.3 in /usr/local/lib/python3.7/dist-packages (from pandas>=0.20.2->argus) (2.8.2)\n",
            "Requirement already satisfied: pytz>=2017.2 in /usr/local/lib/python3.7/dist-packages (from pandas>=0.20.2->argus) (2018.9)\n",
            "Requirement already satisfied: six>=1.5 in /usr/local/lib/python3.7/dist-packages (from python-dateutil>=2.7.3->pandas>=0.20.2->argus) (1.15.0)\n",
            "Requirement already satisfied: opencv-python>=4.1 in /usr/local/lib/python3.7/dist-packages (from pytorch_toolbelt) (4.1.2.30)\n",
            "Requirement already satisfied: sentry-sdk>=1.0.0 in /usr/local/lib/python3.7/dist-packages (from wandb) (1.4.3)\n",
            "Requirement already satisfied: GitPython>=1.0.0 in /usr/local/lib/python3.7/dist-packages (from wandb) (3.1.24)\n",
            "Requirement already satisfied: psutil>=5.0.0 in /usr/local/lib/python3.7/dist-packages (from wandb) (5.4.8)\n",
            "Requirement already satisfied: Click!=8.0.0,>=7.0 in /usr/local/lib/python3.7/dist-packages (from wandb) (7.1.2)\n",
            "Requirement already satisfied: shortuuid>=0.5.0 in /usr/local/lib/python3.7/dist-packages (from wandb) (1.0.2)\n",
            "Requirement already satisfied: subprocess32>=3.5.3 in /usr/local/lib/python3.7/dist-packages (from wandb) (3.5.4)\n",
            "Requirement already satisfied: protobuf>=3.12.0 in /usr/local/lib/python3.7/dist-packages (from wandb) (3.17.3)\n",
            "Requirement already satisfied: PyYAML in /usr/local/lib/python3.7/dist-packages (from wandb) (3.13)\n",
            "Requirement already satisfied: docker-pycreds>=0.4.0 in /usr/local/lib/python3.7/dist-packages (from wandb) (0.4.0)\n",
            "Requirement already satisfied: pathtools in /usr/local/lib/python3.7/dist-packages (from wandb) (0.1.2)\n",
            "Requirement already satisfied: requests<3,>=2.0.0 in /usr/local/lib/python3.7/dist-packages (from wandb) (2.23.0)\n",
            "Requirement already satisfied: configparser>=3.8.1 in /usr/local/lib/python3.7/dist-packages (from wandb) (5.1.0)\n",
            "Requirement already satisfied: yaspin>=1.0.0 in /usr/local/lib/python3.7/dist-packages (from wandb) (2.1.0)\n",
            "Requirement already satisfied: promise<3,>=2.0 in /usr/local/lib/python3.7/dist-packages (from wandb) (2.3)\n",
            "Requirement already satisfied: gitdb<5,>=4.0.1 in /usr/local/lib/python3.7/dist-packages (from GitPython>=1.0.0->wandb) (4.0.9)\n",
            "Requirement already satisfied: smmap<6,>=3.0.1 in /usr/local/lib/python3.7/dist-packages (from gitdb<5,>=4.0.1->GitPython>=1.0.0->wandb) (5.0.0)\n",
            "Requirement already satisfied: idna<3,>=2.5 in /usr/local/lib/python3.7/dist-packages (from requests<3,>=2.0.0->wandb) (2.10)\n",
            "Requirement already satisfied: certifi>=2017.4.17 in /usr/local/lib/python3.7/dist-packages (from requests<3,>=2.0.0->wandb) (2021.5.30)\n",
            "Requirement already satisfied: urllib3!=1.25.0,!=1.25.1,<1.26,>=1.21.1 in /usr/local/lib/python3.7/dist-packages (from requests<3,>=2.0.0->wandb) (1.24.3)\n",
            "Requirement already satisfied: chardet<4,>=3.0.2 in /usr/local/lib/python3.7/dist-packages (from requests<3,>=2.0.0->wandb) (3.0.4)\n",
            "Requirement already satisfied: termcolor<2.0.0,>=1.1.0 in /usr/local/lib/python3.7/dist-packages (from yaspin>=1.0.0->wandb) (1.1.0)\n",
            "Collecting hydra-slayer>=0.1.1\n",
            "  Downloading hydra_slayer-0.3.0-py3-none-any.whl (12 kB)\n",
            "Collecting PyYAML\n",
            "  Downloading PyYAML-6.0-cp37-cp37m-manylinux_2_5_x86_64.manylinux1_x86_64.manylinux_2_12_x86_64.manylinux2010_x86_64.whl (596 kB)\n",
            "\u001b[K     |████████████████████████████████| 596 kB 34.7 MB/s \n",
            "\u001b[?25hCollecting tensorboardX<2.3.0>=2.1.0\n",
            "  Downloading tensorboardX-2.2-py2.py3-none-any.whl (120 kB)\n",
            "\u001b[K     |████████████████████████████████| 120 kB 48.2 MB/s \n",
            "\u001b[?25hRequirement already satisfied: scikit-image>=0.16.1 in /usr/local/lib/python3.7/dist-packages (from albumentations) (0.16.2)\n",
            "Requirement already satisfied: opencv-python-headless>=4.1.1 in /usr/local/lib/python3.7/dist-packages (from albumentations) (4.5.4.58)\n",
            "Requirement already satisfied: qudida>=0.0.4 in /usr/local/lib/python3.7/dist-packages (from albumentations) (0.0.4)\n",
            "Requirement already satisfied: scikit-learn>=0.19.1 in /usr/local/lib/python3.7/dist-packages (from qudida>=0.0.4->albumentations) (0.22.2.post1)\n",
            "Requirement already satisfied: PyWavelets>=0.4.0 in /usr/local/lib/python3.7/dist-packages (from scikit-image>=0.16.1->albumentations) (1.1.1)\n",
            "Requirement already satisfied: imageio>=2.3.0 in /usr/local/lib/python3.7/dist-packages (from scikit-image>=0.16.1->albumentations) (2.4.1)\n",
            "Requirement already satisfied: matplotlib!=3.0.0,>=2.0.0 in /usr/local/lib/python3.7/dist-packages (from scikit-image>=0.16.1->albumentations) (3.2.2)\n",
            "Requirement already satisfied: networkx>=2.0 in /usr/local/lib/python3.7/dist-packages (from scikit-image>=0.16.1->albumentations) (2.6.3)\n",
            "Requirement already satisfied: kiwisolver>=1.0.1 in /usr/local/lib/python3.7/dist-packages (from matplotlib!=3.0.0,>=2.0.0->scikit-image>=0.16.1->albumentations) (1.3.2)\n",
            "Requirement already satisfied: cycler>=0.10 in /usr/local/lib/python3.7/dist-packages (from matplotlib!=3.0.0,>=2.0.0->scikit-image>=0.16.1->albumentations) (0.10.0)\n",
            "Requirement already satisfied: pyparsing!=2.0.4,!=2.1.2,!=2.1.6,>=2.0.1 in /usr/local/lib/python3.7/dist-packages (from matplotlib!=3.0.0,>=2.0.0->scikit-image>=0.16.1->albumentations) (2.4.7)\n",
            "Requirement already satisfied: joblib>=0.11 in /usr/local/lib/python3.7/dist-packages (from scikit-learn>=0.19.1->qudida>=0.0.4->albumentations) (1.0.1)\n",
            "Installing collected packages: tensorboardX, PyYAML, hydra-slayer, catalyst\n",
            "  Attempting uninstall: PyYAML\n",
            "    Found existing installation: PyYAML 3.13\n",
            "    Uninstalling PyYAML-3.13:\n",
            "      Successfully uninstalled PyYAML-3.13\n",
            "Successfully installed PyYAML-6.0 catalyst-21.10 hydra-slayer-0.3.0 tensorboardX-2.2\n"
          ]
        }
      ]
    },
    {
      "cell_type": "code",
      "metadata": {
        "colab": {
          "base_uri": "https://localhost:8080/"
        },
        "id": "0KKS8qiXcLrE",
        "outputId": "31e4f41a-4a67-4dbc-a598-645b6d64ed9b"
      },
      "source": [
        "#copy the dataset\n",
        "!mkdir -p seismic-facies-identification-challenge\n",
        "!rsync -avhW --compress-level=2 --info=progress2 /content/gdrive/MyDrive/Datasets/AIcrowd/seismic-facies-identification/data /content/seismic-facies-identification-challenge/data"
      ],
      "execution_count": null,
      "outputs": [
        {
          "name": "stdout",
          "output_type": "stream",
          "text": [
            "sending incremental file list\n",
            "created directory /content/seismic-facies-identification-challenge/data\n",
            "data/\n",
            "data/data_test_1.npz\n",
            "        731.38M  13%   21.12MB/s    0:00:33 (xfr#1, to-chk=0/8)\n",
            "data/data_test_2.npz\n",
            "          1.78G  32%   21.06MB/s    0:01:20 (xfr#2, to-chk=5/8)\n",
            "data/data_train.npz\n",
            "          3.49G  63%   20.88MB/s    0:02:39 (xfr#3, to-chk=4/8)\n",
            "data/data_train_processed.npz\n",
            "          5.22G  95%   20.94MB/s    0:03:57 (xfr#4, to-chk=3/8)\n",
            "data/labels_train.npz\n",
            "          5.23G  95%   20.88MB/s    0:03:58 (xfr#5, to-chk=2/8)\n",
            "data/sample_submission_1.npz\n",
            "          5.33G  97%   20.68MB/s    0:04:05 (xfr#6, to-chk=1/8)\n",
            "data/sample_submission_2.npz\n",
            "          5.48G 100%   20.50MB/s    0:04:14 (xfr#7, to-chk=0/8)\n",
            "\n",
            "sent 5.47G bytes  received 229 bytes  21.31M bytes/sec\n",
            "total size is 5.48G  speedup is 1.00\n"
          ]
        }
      ]
    },
    {
      "cell_type": "code",
      "metadata": {
        "id": "89FT67jprmBk"
      },
      "source": [
        "#importing libraries\n",
        "import numpy as np\n",
        "from sklearn.model_selection import StratifiedKFold\n",
        "import matplotlib.pyplot as plt\n",
        "import torch\n",
        "torch.backends.cudnn.benchmark = True\n",
        "import torch.optim as optim\n",
        "from torch.utils.data import DataLoader, Dataset, Subset\n",
        "\n",
        "import segmentation_models_pytorch as smp\n",
        "# import argus\n",
        "# from argus.callbacks import MonitorCheckpoint, EarlyStopping, LoggingToFile, ReduceLROnPlateau\n",
        "# import albumentations as A\n",
        "# from pytorch_toolbelt.inference.tiles import ImageSlicer, CudaTileMerger\n",
        "# from pytorch_toolbelt.losses import LovaszLoss"
      ],
      "execution_count": null,
      "outputs": []
    },
    {
      "cell_type": "code",
      "metadata": {
        "colab": {
          "base_uri": "https://localhost:8080/"
        },
        "id": "HncVE23IRGwP",
        "outputId": "3a334631-506e-46f9-e627-2d5a89df616c"
      },
      "source": [
        "%%time\n",
        "train_data_full = np.load('/content/seismic-facies-identification-challenge/data/data/data_train.npz', allow_pickle=True, mmap_mode='r')['data']\n",
        "train_label_full = np.load('/content/seismic-facies-identification-challenge/data/data/labels_train.npz', allow_pickle=True, mmap_mode='r')['labels']\n",
        "\n",
        "test_img = np.load('/content/seismic-facies-identification-challenge/data/data/data_test_2.npz', allow_pickle=True, mmap_mode='r')['data']\n"
      ],
      "execution_count": null,
      "outputs": [
        {
          "name": "stdout",
          "output_type": "stream",
          "text": [
            "CPU times: user 23.6 s, sys: 4.04 s, total: 27.6 s\n",
            "Wall time: 1min 9s\n"
          ]
        }
      ]
    },
    {
      "cell_type": "code",
      "metadata": {
        "colab": {
          "base_uri": "https://localhost:8080/",
          "height": 671
        },
        "id": "faBHsBPWSVoQ",
        "outputId": "316f06b2-195c-45ad-dd0c-0c76104b4c82"
      },
      "source": [
        "%%time\n",
        "mean, std = train_data_full.mean(), train_data_full.std()\n",
        "\n",
        "plt.figure(figsize=(8, 5))\n",
        "plt.hist(train_data_full.flatten(), bins=100)\n",
        "\n",
        "plt.axvline(mean, color='k', linestyle='dashed', linewidth=2)\n",
        "plt.axvline(mean + 3*std, color='k', linestyle='dashed', linewidth=1)\n",
        "plt.axvline(mean - 3*std, color='k', linestyle='dashed', linewidth=1)\n",
        "plt.show()\n",
        "\n",
        "plt.figure(figsize=(8, 5))\n",
        "plt.hist(train_data_full.flatten(), bins=100, log=True)\n",
        "\n",
        "plt.axvline(mean, color='k', linestyle='dashed', linewidth=2)\n",
        "plt.axvline(mean + 3*std, color='k', linestyle='dashed', linewidth=1)\n",
        "plt.axvline(mean - 3*std, color='k', linestyle='dashed', linewidth=1)\n",
        "plt.show()\n"
      ],
      "execution_count": null,
      "outputs": [
        {
          "data": {
            "image/png": "[encoded data removed]",
            "text/plain": [
              "<Figure size 576x360 with 1 Axes>"
            ]
          },
          "metadata": {},
          "output_type": "display_data"
        },
        {
          "data": {
            "image/png": "[encoded data removed]",
            "text/plain": [
              "<Figure size 576x360 with 1 Axes>"
            ]
          },
          "metadata": {},
          "output_type": "display_data"
        },
        {
          "name": "stdout",
          "output_type": "stream",
          "text": [
            "CPU times: user 29 s, sys: 1.55 s, total: 30.5 s\n",
            "Wall time: 30.2 s\n"
          ]
        }
      ]
    },
    {
      "cell_type": "code",
      "metadata": {
        "colab": {
          "base_uri": "https://localhost:8080/",
          "height": 703
        },
        "id": "ovYyx7BTTg3Y",
        "outputId": "8e5b3a43-5117-4632-de00-7f60076a11bf"
      },
      "source": [
        "ranges = train_data_full.min(), train_data_full.max()\n",
        "values = np.unique(train_label_full)\n",
        "\n",
        "data_histograms = [train_data_full[train_label_full == value].flatten()\n",
        "                   for value in values]\n",
        "\n",
        "CLASS_LABELS = [\n",
        "    'Basement/other',\n",
        "    'Slope Mudstone A',\n",
        "    'Mass Transport\\n Deposit',\n",
        "    'Slope Mudstone B',\n",
        "    'Slope Valley',\n",
        "    'Submarine Canyon\\n System'\n",
        "]\n",
        "\n",
        "fig, ax = plt.subplots(3, 2, figsize=(14, 10))\n",
        "\n",
        "for i, value in enumerate(values):\n",
        "    data = data_histograms[i]\n",
        "    mean_, std_ = data.mean(), data.std()\n",
        "    ax_ = ax[i // 2, i % 2]\n",
        "    \n",
        "    label_name = CLASS_LABELS[value-1].replace('\\n', '')\n",
        "    \n",
        "    ax_.hist(data, log=True, bins=50, range=ranges, color='b',\n",
        "                     label=f'value {value}: {label_name}', alpha=0.2)\n",
        "    ax_.axvline(mean_, color='k', linestyle='dashed', linewidth=2)\n",
        "    ax_.axvline(mean_ + 3*std_, color='k', linestyle='dashed', linewidth=1)\n",
        "    ax_.axvline(mean_ - 3*std_, color='k', linestyle='dashed', linewidth=1)\n",
        "    \n",
        "    ax_.legend(loc='best')\n",
        "    \n",
        "    print(f'{value} ::: mean is {mean_:4.4} ::: std is {std_:4.4} ::: {label_name}')\n",
        "\n",
        "fig.show()"
      ],
      "execution_count": null,
      "outputs": [
        {
          "name": "stdout",
          "output_type": "stream",
          "text": [
            "1 ::: mean is -0.8623 ::: std is 213.2 ::: Basement/other\n",
            "2 ::: mean is 0.9905 ::: std is 379.5 ::: Slope Mudstone A\n",
            "3 ::: mean is -5.073 ::: std is 468.9 ::: Mass Transport Deposit\n",
            "4 ::: mean is 2.11 ::: std is 453.0 ::: Slope Mudstone B\n",
            "5 ::: mean is -18.73 ::: std is 655.1 ::: Slope Valley\n",
            "6 ::: mean is 1.998 ::: std is 372.3 ::: Submarine Canyon System\n"
          ]
        },
        {
          "data": {
            "image/png": "[encoded data removed]",
            "text/plain": [
              "<Figure size 1008x720 with 6 Axes>"
            ]
          },
          "metadata": {},
          "output_type": "display_data"
        }
      ]
    },
    {
      "cell_type": "code",
      "metadata": {
        "id": "5_u5V2q0ex-h"
      },
      "source": [
        "#add more EDA graphs for indepth info\n",
        "#also conclude some points from graphs, add extra attributes generation function\n",
        "#conclude how to use them \n",
        "#finally write catalyst benefits, easy experimentation with wandb and if someone is using leocd notebook give then code for wandb even without using \n",
        "#catlyst"
      ],
      "execution_count": null,
      "outputs": []
    },
    {
      "cell_type": "code",
      "metadata": {
        "colab": {
          "base_uri": "https://localhost:8080/",
          "height": 462
        },
        "id": "YH9XUe87OFkY",
        "outputId": "1cc61d98-359b-42b7-8773-75f05921af24"
      },
      "source": [
        "#let's look at 2d section of 3d data using below slice visualization \n",
        "fig, ax = plt.subplots(1,3, sharey=True);\n",
        "fig.set_size_inches(20, 8);\n",
        "fig.suptitle(\"2D slice of the 3D seismic data volume\", fontsize=20);\n",
        "\n",
        "ax[0].imshow(train_data_full[:, :, 100], cmap='terrain');\n",
        "ax[0].set_ylabel('Z Axis: Top - Bottom', fontsize=14);\n",
        "ax[1].imshow(train_label_full[:, :, 100]);\n",
        "ax[2].imshow(train_data_full[:, :, 100], cmap='terrain');\n",
        "ax[2].imshow(train_label_full[:, :, 100], alpha=0.4, cmap='twilight');\n",
        "\n",
        "for i in range(3):\n",
        "    ax[i].set_xlabel('X Axis: West - East', fontsize=14);\n"
      ],
      "execution_count": null,
      "outputs": [
        {
          "data": {
            "image/png": "[encoded data removed]",
            "text/plain": [
              "<Figure size 1440x576 with 3 Axes>"
            ]
          },
          "metadata": {},
          "output_type": "display_data"
        }
      ]
    },
    {
      "cell_type": "markdown",
      "metadata": {
        "id": "NGYud26_tT7O"
      },
      "source": [
        "## EDA - Extra attributes"
      ]
    },
    {
      "cell_type": "code",
      "metadata": {
        "id": "e_qDwE8-pnYS"
      },
      "source": [
        "!pip install argus pytorch_toolbelt"
      ],
      "execution_count": null,
      "outputs": []
    },
    {
      "cell_type": "code",
      "metadata": {
        "id": "ummh7H49dZwX"
      },
      "source": [
        "!pip install wandb"
      ],
      "execution_count": null,
      "outputs": []
    },
    {
      "cell_type": "code",
      "metadata": {
        "id": "O92jvFdpwEUi"
      },
      "source": [
        "! pip install --upgrade albumentations"
      ],
      "execution_count": null,
      "outputs": []
    },
    {
      "cell_type": "code",
      "metadata": {
        "id": "jvMJpYUaFhBO"
      },
      "source": [
        "!pip install catalyst"
      ],
      "execution_count": null,
      "outputs": []
    },
    {
      "cell_type": "markdown",
      "metadata": {
        "id": "kufpb6PMFWpG"
      },
      "source": [
        "# Using Catalyst with wandb API, the final model training"
      ]
    },
    {
      "cell_type": "code",
      "metadata": {
        "id": "WxmJM6sIwEXa"
      },
      "source": [
        "import os\n",
        "from tempfile import TemporaryDirectory\n",
        "\n",
        "from pytest import mark\n",
        "from torch import nn, optim\n",
        "from torch.utils.data import DataLoader\n",
        "\n",
        "import catalyst\n",
        "from catalyst import dl, utils, metrics\n",
        "from catalyst.contrib.datasets import MNIST\n",
        "from catalyst.data.transforms import ToTensor\n",
        "from catalyst.settings import IS_CUDA_AVAILABLE, NUM_CUDA_DEVICES, SETTINGS"
      ],
      "execution_count": 1,
      "outputs": []
    },
    {
      "cell_type": "code",
      "metadata": {
        "id": "jgs7iFYWwEZW"
      },
      "source": [
        "import albumentations as A\n",
        "\n",
        "from copy import copy\n",
        "\n",
        "import numpy as np\n",
        "import matplotlib.pyplot as plt\n",
        "import gc\n",
        "import tqdm\n",
        "from sklearn.model_selection import StratifiedKFold\n",
        "import cv2\n",
        "\n",
        "import torch\n",
        "torch.backends.cudnn.benchmark = True\n",
        "import torch.optim as optim\n",
        "from torch.utils.data import DataLoader, Dataset, Subset\n",
        "\n",
        "SEED = 42\n",
        "utils.set_global_seed(SEED)\n",
        "utils.prepare_cudnn(deterministic=True)\n",
        "\n",
        "import segmentation_models_pytorch as smp"
      ],
      "execution_count": 2,
      "outputs": []
    },
    {
      "cell_type": "code",
      "metadata": {
        "id": "-hRQkNcMwEbj"
      },
      "source": [
        "competition_path = \"/content/seismic-facies-identification-challenge/\"\n",
        "data_path = competition_path + \"data/data/\"\n",
        "train_img = np.load(data_path+'data_train.npz', allow_pickle=True, mmap_mode='r')['data']\n",
        "train_labels = np.load(data_path+'labels_train.npz', allow_pickle=True, mmap_mode='r')['labels']\n",
        "test1_img = np.load(data_path+'data_test_1.npz', allow_pickle=True, mmap_mode='r')['data']\n",
        "test2_img = np.load(data_path+'data_test_2.npz', allow_pickle=True, mmap_mode='r')['data']\n",
        "train_labels -= 1\n",
        "train_labels[:,0,:] = train_labels[:,1,:]"
      ],
      "execution_count": 3,
      "outputs": []
    },
    {
      "cell_type": "code",
      "metadata": {
        "colab": {
          "base_uri": "https://localhost:8080/"
        },
        "id": "l-6OhtUGHFzA",
        "outputId": "3cb79dbb-2c10-4f77-9600-9fffbaaa9f61"
      },
      "source": [
        "print(f\"train_img {train_img.shape} train_lables {train_labels.shape} test1_img {test1_img.shape} test2_img {test2_img.shape}\")\n",
        "\n",
        "\"\"\"\n",
        "# normalize values to [0, 1]\n",
        "_min = min(train_img.min(), test1_img.min(), test2_img.min())\n",
        "_max = max(train_img.max(), test1_img.max(), test2_img.max())\n",
        "train_img = (train_img - _min) / (_max - _min)\n",
        "test1_img = (test1_img - _min) / (_max - _min)\n",
        "test2_img = (test2_img - _min) / (_max - _min)\n",
        "\"\"\"\n",
        "# normalize values to max(abs())==1\n",
        "_min = min(train_img.min(), test1_img.min(), test2_img.min())\n",
        "_max = max(train_img.max(), test1_img.max(), test2_img.max())\n",
        "divide = max(-_min, _max)\n",
        "train_img = train_img / divide\n",
        "test1_img = test1_img / divide\n",
        "test2_img = test2_img / divide"
      ],
      "execution_count": 4,
      "outputs": [
        {
          "output_type": "stream",
          "name": "stdout",
          "text": [
            "train_img (1006, 782, 590) train_lables (1006, 782, 590) test1_img (1006, 782, 251) test2_img (1006, 334, 841)\n"
          ]
        }
      ]
    },
    {
      "cell_type": "code",
      "metadata": {
        "id": "pJYPYj7-HF1F"
      },
      "source": [
        "def calculate_weights(train_labels):\n",
        "  labels = [0, 1, 2, 3, 4, 5]\n",
        "  weights = []\n",
        "  for label in labels:\n",
        "    weights.append(train_labels.size / np.sum(train_labels==label) / len(labels))\n",
        "  return weights\n",
        "def train_transform(image, mask):\n",
        "  binary_class = \"class_012345\"\n",
        "  if binary_class == \"class_012345\" or binary_class == \"class_0123\":\n",
        "    height = 896\n",
        "    width = 256\n",
        "  elif binary_class == \"class_4\":\n",
        "    height = 448\n",
        "    width = 448\n",
        "  elif binary_class == \"class_5\":\n",
        "    height = 544\n",
        "    width = 256\n",
        "  return A.Compose([   \n",
        "    A.ShiftScaleRotate(p=0.7, shift_limit=0, scale_limit=0.15, rotate_limit=25),\n",
        "    #A.Rotate(p=0.8, limit=25, interpolation=cv2.INTER_LINEAR), # cv2.INTER_LINEAR or cv2.INTER_NEAREST\n",
        "    #A.OneOf([\n",
        "    #     A.ShiftScaleRotate(p=0.8, shift_limit=0, scale_limit=0.15, rotate_limit=25),\n",
        "    #     A.IAAPiecewiseAffine(p=0.8, scale=(0.03, 0.12), nb_rows=4, nb_cols=4),\n",
        "    #], p=1),\n",
        "    A.RandomCrop(p=1, height=height, width=width),\n",
        "    A.MultiplicativeNoise(p=0.7, multiplier=(0.8, 1.2), per_channel=False, elementwise=False),\n",
        "    #A.GaussNoise(p=0.8, var_limit=(10.0, 50.0)), # var_limit to be optimized\n",
        "    A.HorizontalFlip(p=0.5),\n",
        "  ])(image=image, mask=mask)\n",
        "\n",
        "def valid_transform(image, mask):\n",
        "  binary_class = \"class_012345\"\n",
        "  if binary_class == \"class_012345\" or binary_class == \"class_0123\":\n",
        "    height = 1024\n",
        "    width = 800\n",
        "  elif binary_class == \"class_4\":\n",
        "    height = 448\n",
        "    width = 448\n",
        "  elif binary_class == \"class_5\":\n",
        "    height = 544\n",
        "    width = 800\n",
        "  return A.Compose([\n",
        "    A.PadIfNeeded(p=1, min_height=height, min_width=width), # border_mode=4 reflect_101 \n",
        "  ])(image=image, mask=mask)"
      ],
      "execution_count": 5,
      "outputs": []
    },
    {
      "cell_type": "code",
      "metadata": {
        "id": "iCE7LXn_HF3L"
      },
      "source": [
        "#we create dataset pytorch class for image handling and data loading during training\n",
        "class SeismicFaciesDataset(Dataset):\n",
        "  def __init__(self, img, labels, train=True, both_axis=True, channels=3):\n",
        "    self.img = img\n",
        "    self.labels = labels\n",
        "    self.train = train\n",
        "    self.both_axis = both_axis\n",
        "    self.channels = channels\n",
        "    self.side_channels = int((channels - 1) / 2)\n",
        "    self.xaxis = self.img.shape[1]\n",
        "    self.yaxis = self.img.shape[2]\n",
        "    self.ximages = self.xaxis - self.side_channels * 2\n",
        "    self.yimages = self.yaxis - self.side_channels * 2\n",
        "\n",
        "  def __len__(self):\n",
        "    if self.both_axis:\n",
        "      return self.ximages + self.yimages\n",
        "    else:\n",
        "      return self.yimages\n",
        "\n",
        "  def __getitem__(self, idx):\n",
        "    if idx < self.yimages:\n",
        "      image, mask = self.img[:, :, idx:idx+self.channels], self.labels[:, :, idx+self.side_channels]\n",
        "    else:\n",
        "      idx = idx - self.yimages\n",
        "      image, mask = self.img[:, idx:idx+self.channels], self.labels[:, idx+self.side_channels]\n",
        "      image = np.moveaxis(image, 1, 2)\n",
        "\n",
        "    if self.train:\n",
        "      augmented = train_transform(image, mask)\n",
        "    else:\n",
        "      augmented = valid_transform(image, mask)\n",
        "    image, mask = augmented['image'], augmented['mask']\n",
        "        \n",
        "    return [np.moveaxis(image, 2, 0), np.expand_dims(mask, 0)]\n",
        "\n",
        "#separate dataset class for test images\n",
        "class SeismicFaciesTestset(Dataset):\n",
        "  def __init__(self, img, batch_axis=2, channels=3): # batch_axis = 1 (x_axis) or 2 (y_axis)\n",
        "    self.img = img\n",
        "    self.batch_axis = batch_axis\n",
        "    self.channels = channels\n",
        "    self.side_channels = int((channels - 1) / 2)\n",
        "    self.image_nb = self.img.shape[self.batch_axis]\n",
        "\n",
        "  def __len__(self):\n",
        "    return self.image_nb\n",
        "\n",
        "  def __getitem__(self, idx):\n",
        "    if idx < self.side_channels:\n",
        "      idx = self.side_channels\n",
        "    \n",
        "    if idx > self.image_nb-self.side_channels-1:\n",
        "      idx = self.image_nb-self.side_channels-1\n",
        "    if self.batch_axis == 2:\n",
        "      image = self.img[:, :, idx-self.side_channels:idx+self.side_channels+1]\n",
        "    else:\n",
        "      image = self.img[:, idx-self.side_channels:idx+self.side_channels+1, :]\n",
        "      image = np.moveaxis(image, 1, 2)\n",
        "\n",
        "    #image = A.PadIfNeeded(p=1, min_height=1024, min_width=800)(image=image)[\"image\"]\n",
        "    bboxes = [[0, 0, image.shape[1], image.shape[0], \"original_image\"]] # width and then height\n",
        "    augmented = A.Compose([\n",
        "          A.PadIfNeeded(p=1, min_height=1024, min_width=1024),\n",
        "          ], bbox_params=A.BboxParams(format='coco'))(image=image, bboxes=bboxes)\n",
        "    image, self.bboxes = augmented[\"image\"], augmented[\"bboxes\"]\n",
        "    return [np.moveaxis(image, 2, 0)]"
      ],
      "execution_count": 6,
      "outputs": []
    },
    {
      "cell_type": "code",
      "metadata": {
        "id": "LIClouotwEkU"
      },
      "source": [
        "#this class represents catalyst Runner Class which we will be using to perform  all the required training steps, we just need to change this class whenever required. \n",
        "class CustomRunner(dl.IRunner):\n",
        "    def __init__(self, logdir, device):\n",
        "        super().__init__()\n",
        "        self._logdir = logdir\n",
        "        self._device = device\n",
        "        self._name = \"seismic-facies-identification\"\n",
        "        self.classes = 6\n",
        "        self.channels = 1\n",
        "        self._weights = [1, 1, 1, 1, 20, 20]\n",
        "\n",
        "    def get_engine(self):\n",
        "        return dl.DeviceEngine(self._device)\n",
        "\n",
        "    def get_loggers(self):\n",
        "        return {\"wandb\": dl.WandbLogger(project=\"seismic_catalyst_wandb\", name=self._name)}\n",
        "    \n",
        "    def on_loader_start(self, runner):\n",
        "        super().on_loader_start(runner)\n",
        "        self.meters = {\n",
        "            key: metrics.AdditiveValueMetric(compute_on_call=False)\n",
        "            for key in [\"loss\", \"accuracy_01\",  \"f1_score\"]\n",
        "        }\n",
        "\n",
        "    @property\n",
        "    def stages(self):\n",
        "        return [\"train_freezed\", \"train_unfreezed\"]\n",
        "\n",
        "    def get_stage_len(self, stage: str) -> int:\n",
        "        return 10\n",
        "\n",
        "    def get_loaders(self, stage: str):\n",
        "        # train\n",
        "        valid_ratio = 0.1\n",
        "        dataset = SeismicFaciesDataset(train_img, train_labels, channels=self.channels)\n",
        "        nb_valid_xaxis = int(dataset.xaxis * valid_ratio)\n",
        "        nb_valid_yaxis = int(dataset.yaxis * valid_ratio)\n",
        "        # split (train set = whole data; valid set = near to test set)\n",
        "        train_index = list(range(0, dataset.__len__()))\n",
        "        valid_index = list(range(dataset.__len__() - nb_valid_xaxis, dataset.__len__()))\n",
        "\n",
        "        train_dataset, valid_dataset = Subset(dataset, train_index), Subset(copy(dataset), valid_index)\n",
        "        loaders = {\n",
        "         \"train\": DataLoader(train_dataset, batch_size=8, num_workers=0, shuffle=True, drop_last=True),\n",
        "         \"valid\": DataLoader(valid_dataset, batch_size=4, num_workers=0, shuffle=False, drop_last=False),\n",
        "        }\n",
        "        return loaders\n",
        "\n",
        "    def get_model(self, stage: str):\n",
        "        model = smp.DeepLabV3Plus(encoder_name=\"efficientnet-b0\", in_channels=self.channels, classes=self.classes, activation=\"softmax\", encoder_weights='imagenet')\n",
        "        return model\n",
        "\n",
        "    def get_criterion(self, stage: str):\n",
        "        return nn.CrossEntropyLoss(weight=torch.FloatTensor(self._weights).cuda())\n",
        "\n",
        "    def get_optimizer(self, stage: str, model):\n",
        "        if stage == \"train_unfreezed\":\n",
        "            return optim.Adam(model.parameters(), lr=1e-3)\n",
        "        else:\n",
        "            return optim.SGD(model.parameters(), lr=1e-1)\n",
        "\n",
        "    def get_scheduler(self, stage: str, optimizer):\n",
        "        return None\n",
        "\n",
        "    def get_callbacks(self, stage: str):\n",
        "        callbacks = {\n",
        "            \"checkpoint\": dl.CheckpointCallback(\n",
        "                self._logdir, loader_key=\"valid\", metric_key=\"loss\", minimize=True, save_n_best=3\n",
        "            ),\n",
        "            # \"criterion\": dl.CriterionCallback(\n",
        "            #     metric_key=\"loss\", input_key=\"logits\", target_key=\"targets\"\n",
        "            # ),\n",
        "            # \"optimizer\": dl.OptimizerCallback(\n",
        "            #     metric_key=\"loss\",\n",
        "            #     grad_clip_fn=nn.utils.clip_grad_norm_,\n",
        "            #     grad_clip_params={\"max_norm\": 1.0},\n",
        "            # ),\n",
        "        #     \"accuracy\": dl.AccuracyCallback(\n",
        "        #     input_key=\"logits\", target_key=\"targets\", num_classes=self.classes\n",
        "        # ),\n",
        "        }\n",
        "        return callbacks\n",
        "\n",
        "    def handle_batch(self, batch):\n",
        "        # model train/valid step\n",
        "        x, y = batch\n",
        "        y_hat = self.model(x)\n",
        "        \n",
        "        # loss = self.criterion[\"CE\"](y_hat, torch.squeeze(y.long()))*0.3 + self.criterion[\"GDice\"](y_hat, torch.squeeze(y.long()))*0.7\n",
        "\n",
        "        loss = self.criterion(y_hat, torch.squeeze(y.long()))\n",
        "        y_hat_reshaped = y_hat.permute(0, 2, 3, 1).reshape(-1, self.classes)\n",
        "        y_reshaped = y.permute(0, 2, 3, 1).reshape(-1, 1)\n",
        "\n",
        "        # f1_score = sklearn.metrics.f1_score(y_reshaped.cpu().detach().numpy(), y_hat_reshaped.cpu().detach().numpy().argmax(axis=1), average='macro')\n",
        "        accuracy01, accuracy03 = catalyst.metrics.accuracy(y_hat_reshaped, y_reshaped, topk=(1, 3))\n",
        "\n",
        "        # [accuracy01] = catalyst.metrics.accuracy(y_hat_reshaped, y_reshaped)\n",
        "        f1_score = catalyst.metrics.f1_score(torch.argmax(y_hat_reshaped, dim=1, keepdims=True), y_reshaped, num_classes=self.classes)\n",
        "\n",
        "        self.batch = {\n",
        "            \"features\": x,\n",
        "            \"targets\": y,\n",
        "            \"logits\": y_hat,\n",
        "        }\n",
        "\n",
        "        self.batch_metrics.update(\n",
        "            {\"loss\": loss, \"accuracy_01\": accuracy01, \"f1_score\": torch.mean(f1_score)} # \"accuracy_2\": accuracy02, \"f1_score\": f1_score\n",
        "        )\n",
        "\n",
        "        for key in [\"loss\", \"accuracy_01\", \"f1_score\"]:\n",
        "            self.meters[key].update(self.batch_metrics[key].item(),\n",
        "                                    self.batch_size)\n",
        "        \n",
        "        if self.is_train_loader:\n",
        "            loss.backward()\n",
        "            self.optimizer.step()\n",
        "            self.optimizer.zero_grad()\n",
        "\n",
        "    def on_loader_end(self, runner):\n",
        "        for key in [\"loss\", \"accuracy_01\", \"f1_score\"]:\n",
        "            self.loader_metrics[key] = self.meters[key].compute()[0]\n",
        "        super().on_loader_end(runner)\n",
        "        "
      ],
      "execution_count": 16,
      "outputs": []
    },
    {
      "cell_type": "code",
      "metadata": {
        "colab": {
          "base_uri": "https://localhost:8080/",
          "height": 729,
          "referenced_widgets": [
            "5398936b3ecf4306b8afe13314df57db",
            "e3080b90723541bab94b17ee4071a002",
            "ab4b1c969e1541d2a504a3021c858793",
            "840c261eb0344ad5840fd2863af1dd41",
            "7867325e79fe42cabeab87d2b61a1eaa",
            "46e9d2a60b9a4005a586c477d2318acf",
            "c1d37b1b8c684b26ada0a102a5b0a3ac",
            "01324382d8a8426998d3d13b1da12a89"
          ]
        },
        "id": "QfSBEBYHJZdL",
        "outputId": "55a53564-43ed-4679-c992-53e318528c85"
      },
      "source": [
        "#running the actual code\n",
        "runner = CustomRunner(\"./logs\", \"cuda:0\")\n",
        "runner.run()"
      ],
      "execution_count": 17,
      "outputs": [
        {
          "output_type": "display_data",
          "data": {
            "text/html": [
              "\n",
              "                    Syncing run <strong><a href=\"https://wandb.ai/jeromepatel/seismic_catalyst_wandb/runs/1b06of7j\" target=\"_blank\">seismic-facies-identification</a></strong> to <a href=\"https://wandb.ai/jeromepatel/seismic_catalyst_wandb\" target=\"_blank\">Weights & Biases</a> (<a href=\"https://docs.wandb.com/integrations/jupyter.html\" target=\"_blank\">docs</a>).<br/>\n",
              "\n",
              "                "
            ],
            "text/plain": [
              "<IPython.core.display.HTML object>"
            ]
          },
          "metadata": {}
        },
        {
          "output_type": "stream",
          "name": "stderr",
          "text": [
            "/usr/local/lib/python3.7/dist-packages/catalyst/core/runner.py:624: UserWarning: No ``ICriterionCallback/CriterionCallback`` were found while runner.criterion is not None.Do you compute the loss during ``runner.handle_batch``?\n",
            "  \"No ``ICriterionCallback/CriterionCallback`` were found \"\n",
            "/usr/local/lib/python3.7/dist-packages/catalyst/core/runner.py:630: UserWarning: No ``IOptimizerCallback/OptimizerCallback`` were found while runner.optimizer is not None.Do run backward pass during ``runner.handle_batch``?\n",
            "  \"No ``IOptimizerCallback/OptimizerCallback`` were found \"\n",
            "/usr/local/lib/python3.7/dist-packages/segmentation_models_pytorch/base/modules.py:104: UserWarning: Implicit dimension choice for softmax has been deprecated. Change the call to include dim=X as an argument.\n",
            "  return self.activation(x)\n"
          ]
        },
        {
          "output_type": "stream",
          "name": "stdout",
          "text": [
            "Top best models:\n",
            "logs/train_freezed.1.pth\t1.7747\n",
            "Top best models:\n",
            "logs/train_unfreezed.1.pth\t1.7941\n"
          ]
        },
        {
          "output_type": "display_data",
          "data": {
            "text/html": [
              "<br/>Waiting for W&B process to finish, PID 1660... <strong style=\"color:green\">(success).</strong>"
            ],
            "text/plain": [
              "<IPython.core.display.HTML object>"
            ]
          },
          "metadata": {}
        },
        {
          "output_type": "display_data",
          "data": {
            "application/vnd.jupyter.widget-view+json": {
              "model_id": "5398936b3ecf4306b8afe13314df57db",
              "version_minor": 0,
              "version_major": 2
            },
            "text/plain": [
              "VBox(children=(Label(value=' 0.00MB of 0.00MB uploaded (0.00MB deduped)\\r'), FloatProgress(value=1.0, max=1.0)…"
            ]
          },
          "metadata": {}
        },
        {
          "output_type": "display_data",
          "data": {
            "text/html": [
              "<style>\n",
              "    table.wandb td:nth-child(1) { padding: 0 10px; text-align: right }\n",
              "    .wandb-row { display: flex; flex-direction: row; flex-wrap: wrap; width: 100% }\n",
              "    .wandb-col { display: flex; flex-direction: column; flex-basis: 100%; flex: 1; padding: 10px; }\n",
              "    </style>\n",
              "<div class=\"wandb-row\"><div class=\"wandb-col\">\n",
              "<h3>Run history:</h3><br/><table class=\"wandb\"><tr><td>accuracy_01_batch/train</td><td>▂▃▂▂▁▂▂▁▃▁▁▂▁▁▂▄▄▂▃▁▆▇▇▇▇▆█▆▇▇▇█▇▆▇█▇▇▇▆</td></tr><tr><td>accuracy_01_batch/valid</td><td>▂▃▁▂▁▁▁▂▂▂▁▁▂▂▂▃▁▂▂▃▆▇▆█▅▇▅▆▆▆▆▇▅▆▆▇▆▆▅▇</td></tr><tr><td>accuracy_01_epoch/train</td><td>▁█</td></tr><tr><td>accuracy_01_epoch/valid</td><td>▁█</td></tr><tr><td>f1_score_batch/train</td><td>▁▂▂▃▂▂▂▂▂▁▂▃▂▁▂▄▃▃▃▂▅▇▇▆▇▆▇▆▆█▆██▆▇▇▆▇▇▆</td></tr><tr><td>f1_score_batch/valid</td><td>▄▄▃▃▂▂▃▃▂▂▂▂▃▄▃▅▁▄▄▅▅▆▆▇▅█▅▆▅▆█▇▅▇▆▆▆█▅▅</td></tr><tr><td>f1_score_epoch/train</td><td>▁█</td></tr><tr><td>f1_score_epoch/valid</td><td>▁█</td></tr><tr><td>loss_batch/train</td><td>▅▃▃▅█▄▆▆▆▄▃▄▆▄▅▂▃▅▅██▄▃▆▄▄▄▆▄▃▄▁▁▄▄▄▆▄▃▅</td></tr><tr><td>loss_batch/valid</td><td>▃▂▅▅▄▁▃▃▃▂▄▅▃▅▃▂▁▃▃▆█▆▇▇▆▆▆▆▅▅▅▃▆▆▅▇▅▇▆▅</td></tr><tr><td>loss_epoch/train</td><td>▁█</td></tr><tr><td>loss_epoch/valid</td><td>▁█</td></tr></table><br/></div><div class=\"wandb-col\">\n",
              "<h3>Run summary:</h3><br/><table class=\"wandb\"><tr><td>accuracy_01_batch/train</td><td>0.22693</td></tr><tr><td>accuracy_01_batch/valid</td><td>0.28974</td></tr><tr><td>accuracy_01_epoch/train</td><td>0.22393</td></tr><tr><td>accuracy_01_epoch/valid</td><td>0.2609</td></tr><tr><td>f1_score_batch/train</td><td>0.15346</td></tr><tr><td>f1_score_batch/valid</td><td>0.11943</td></tr><tr><td>f1_score_epoch/train</td><td>0.14187</td></tr><tr><td>f1_score_epoch/valid</td><td>0.13933</td></tr><tr><td>loss_batch/train</td><td>1.77021</td></tr><tr><td>loss_batch/valid</td><td>1.78854</td></tr><tr><td>loss_epoch/train</td><td>1.77544</td></tr><tr><td>loss_epoch/valid</td><td>1.79409</td></tr></table>\n",
              "</div></div>\n",
              "Synced 5 W&B file(s), 0 media file(s), 0 artifact file(s) and 0 other file(s)\n",
              "<br/>Synced <strong style=\"color:#cdcd00\">seismic-facies-identification</strong>: <a href=\"https://wandb.ai/jeromepatel/seismic_catalyst_wandb/runs/1b06of7j\" target=\"_blank\">https://wandb.ai/jeromepatel/seismic_catalyst_wandb/runs/1b06of7j</a><br/>\n",
              "Find logs at: <code>./wandb/run-20211108_061311-1b06of7j/logs</code><br/>\n"
            ],
            "text/plain": [
              "<IPython.core.display.HTML object>"
            ]
          },
          "metadata": {}
        },
        {
          "output_type": "execute_result",
          "data": {
            "text/plain": [
              "<__main__.CustomRunner at 0x7fd4b6363990>"
            ]
          },
          "metadata": {},
          "execution_count": 17
        }
      ]
    },
    {
      "cell_type": "code",
      "metadata": {
        "id": "1tCngOC2JZfh"
      },
      "source": [
        ""
      ],
      "execution_count": null,
      "outputs": []
    },
    {
      "cell_type": "code",
      "metadata": {
        "id": "-yeZUUvDJZh9"
      },
      "source": [
        ""
      ],
      "execution_count": null,
      "outputs": []
    },
    {
      "cell_type": "code",
      "metadata": {
        "id": "fVMG45sUJZkW"
      },
      "source": [
        ""
      ],
      "execution_count": null,
      "outputs": []
    },
    {
      "cell_type": "code",
      "metadata": {
        "id": "0zdy92ghJZnK"
      },
      "source": [
        ""
      ],
      "execution_count": null,
      "outputs": []
    },
    {
      "cell_type": "markdown",
      "metadata": {
        "id": "43pkTPNRHGfn"
      },
      "source": [
        "#Alternate Solution Leo"
      ]
    },
    {
      "cell_type": "code",
      "metadata": {
        "id": "RsuumE86gnqd"
      },
      "source": [
        "import numpy as np\n",
        "import matplotlib.pyplot as plt\n",
        "import torch\n",
        "import torch.optim as optim\n",
        "from torch.utils.data import DataLoader, Dataset\n",
        "import segmentation_models_pytorch as smp\n",
        "import albumentations as A\n",
        "import os\n",
        "from ipywidgets import IntProgress\n",
        "from IPython.display import display\n",
        "import time\n",
        "import cv2\n",
        "os.environ['CUDA_LAUNCH_BLOCKING'] = \"1\""
      ],
      "execution_count": null,
      "outputs": []
    },
    {
      "cell_type": "code",
      "metadata": {
        "id": "DcKnN1kbeAqN"
      },
      "source": [
        "from sklearn.metrics import multilabel_confusion_matrix\n",
        "from sklearn.metrics import f1_score,accuracy_score  #for score metric calculation\n",
        "def _prf_divide(numerator, denominator, ):\n",
        "    \"\"\"Performs division and handles divide-by-zero.\n",
        "    On zero-division, sets the corresponding result elements equal to\n",
        "    0 or 1 (according to ``zero_division``). \n",
        "    \"\"\"\n",
        "    mask = denominator == 0.0\n",
        "    denominator = denominator.copy()\n",
        "    denominator[mask] = 1  # avoid infs/nans\n",
        "    result = numerator / denominator\n",
        "\n",
        "    return result\n",
        "\n",
        "def compute_scores(y_true, y_pred, class_weights=[1, 1, 1, 1, 20, 20]):\n",
        "    \"\"\"\n",
        "    Computes the weighted & unweighted f1_score and accuracy\n",
        "    Using the standard F1-Score and class-wise accuracy computations were quite \n",
        "    slow as we were doing a lot of redundant work across all score computations,\n",
        "    hence we have implemented this from the base principles.\n",
        "    Please refer to the inline comments.\n",
        "    \"\"\"\n",
        "\n",
        "    # Initial Housekeeping Taks1\n",
        "    y_true = np.array(y_true).flatten()\n",
        "    y_pred = np.array(y_pred).flatten()\n",
        "    class_weights = np.array(class_weights)\n",
        "    # print(np.max(y_true))\n",
        "    # print(np.max(y_pred))\n",
        "    # print(np.min(y_true))\n",
        "    # print(np.min(y_pred))\n",
        "    # Computing Multilabel Confusion Matrix\n",
        "    #print(\"--------- Computing MCM... \")\n",
        "    #begin_time = time.time()\n",
        "    MCM = multilabel_confusion_matrix(y_true, y_pred,labels=[1,2,3,4,5,6])\n",
        "    #print(\"MCM computation time  : \", time.time() - begin_time)\n",
        "    \n",
        "    \"\"\"\n",
        "    Gather True Positives, True Negatives, False Positives, False Negatives\n",
        "    \"\"\"\n",
        "    tp_sum = MCM[:, 1, 1]\n",
        "    tn_sum = MCM[:, 0, 0]\n",
        "    fn_sum = MCM[:, 1, 0]\n",
        "    fp_sum = MCM[:, 0, 1]\n",
        "    \n",
        "    #print(\"--------- Computing per class instances... \")\n",
        "    per_class_instances = np.bincount(y_true) # Helps keep a track of total number of instances per class\n",
        "    per_class_instances = per_class_instances[1:] # as the class names in the dataset are NOT zero-indexed\n",
        "    \n",
        "    assert class_weights.shape == per_class_instances.shape\n",
        "    \n",
        "    #print(\"--------- Computing precision... \")\n",
        "    # precision : tp / (tp + fp)\n",
        "    precision = _prf_divide(\n",
        "                    tp_sum,\n",
        "                    (tp_sum + fp_sum)\n",
        "                )\n",
        "    #print(\"--------- Computing recall... \")                        \n",
        "    # recall : tp / (tp + fn)\n",
        "    recall = _prf_divide(\n",
        "                    tp_sum,\n",
        "                    (tp_sum + fn_sum)\n",
        "                )\n",
        "\n",
        "    #print(\"--------- Computing F1 score... \")\n",
        "    # f1 : 2 * (recall * precision) / (recall + precision)\n",
        "    f1_score = _prf_divide(\n",
        "                    2 * precision * recall,\n",
        "                    precision + recall\n",
        "                )\n",
        "    #print(\"--------- Computing Accuracy... \")\n",
        "    # accuracy = tp_sum / instances_per_class\n",
        "    # NOTE: we are computing the accuracy independently for all the class specific subgroups\n",
        "    # accuracy = _prf_divide(\n",
        "    #                 tp_sum,\n",
        "    #                 per_class_instances\n",
        "    #             )\n",
        "    # print(class_weights)\n",
        "    # print(f1_score)\n",
        "    f1_score_weighted = np.dot(class_weights, f1_score) / np.sum(class_weights)\n",
        "    f1_score_unweighted = f1_score.mean()\n",
        "\n",
        "    # accuracy_weighted = np.dot(class_weights, accuracy) / np.sum(class_weights)\n",
        "    # accuracy_unweighted = accuracy.mean()\n",
        "\n",
        "    return f1_score_weighted, f1_score_unweighted#, accuracy_weighted, f1_score_unweighted, accuracy_unweighted\n",
        "\n"
      ],
      "execution_count": null,
      "outputs": []
    },
    {
      "cell_type": "code",
      "metadata": {
        "colab": {
          "base_uri": "https://localhost:8080/"
        },
        "id": "5O2r9MQxgiYM",
        "outputId": "9dbf8b94-42dd-4edf-f6a7-ff6adc3f2717"
      },
      "source": [
        "batch_size = 10      \n",
        "num_epochs = 40      \n",
        "num_classes = 6       \n",
        "learning_rate = 0.00085 \n",
        "\n",
        "model = smp.PSPNet(\n",
        "    encoder_name=\"efficientnet-b3\",        \n",
        "    encoder_weights=None,     \n",
        "    in_channels=1,                  \n",
        "    classes=num_classes,                    \n",
        ")\n",
        "device = torch.device('cuda' if torch.cuda.is_available() else 'cpu')\n",
        "model.to(device)\n",
        "print(\"\")"
      ],
      "execution_count": null,
      "outputs": [
        {
          "name": "stdout",
          "output_type": "stream",
          "text": [
            "\n"
          ]
        }
      ]
    },
    {
      "cell_type": "code",
      "metadata": {
        "id": "y0fa89qbg-8a"
      },
      "source": [
        "class seisdataset_train(Dataset):\n",
        "    def __init__(self, x_set, y_set):\n",
        "        self.x, self.y = x_set, y_set\n",
        "        self.n_sample = self.x.shape[1]+self.x.shape[2]+self.x.shape[1]\n",
        "        self.aug = A.Compose([\n",
        "            A.Resize(p=1, height=640, width=320, interpolation=1)\n",
        "        ]) \n",
        "        self.aug2 = A.Compose([\n",
        "            #A.RandomSizedCrop(p=1.0, min_max_height=(1006, 1006), height=1006, width=256, w2h_ratio=1.0, interpolation=0),\n",
        "            #A.GridDistortion(p=0.3, num_steps=6, distort_limit=(-0.2, -0.05), border_mode=1),\n",
        "            A.ElasticTransform(p=0.2,alpha=100, sigma=8, alpha_affine=0, border_mode=1),\n",
        "            A.ShiftScaleRotate(p=0.5, shift_limit=(0.0, 0.0), scale_limit=(0.01, 0.25), rotate_limit=(-15, 15), interpolation=0, border_mode=1),\n",
        "            A.RandomCrop(900, 250, p=0.3),\n",
        "            A.Resize(p=1, height=640, width=320, interpolation=0)\n",
        "            \n",
        "        ])  \n",
        "\n",
        "    def __len__(self):\n",
        "        return self.n_sample\n",
        "    \n",
        "    def __getitem__(self, index):\n",
        "        if index < self.x.shape[1]:\n",
        "          idx = index\n",
        "          batch_x = self.x[:,idx,:]\n",
        "          batch_y = self.y[:,idx,:]-1\n",
        "          augmented = self.aug(image=batch_x, mask=batch_y)\n",
        "        elif self.x.shape[1] <= index < (self.x.shape[1]+self.x.shape[2]):\n",
        "          idx = index-self.x.shape[1]\n",
        "          batch_x = self.x[:,:,idx]\n",
        "          batch_y = self.y[:,:,idx]-1\n",
        "          augmented = self.aug2(image=batch_x, mask=batch_y)\n",
        "        elif index >= self.x.shape[1]+self.x.shape[2]:\n",
        "          idx = index-self.x.shape[1]-self.x.shape[2]\n",
        "          batch_x = self.x[:,idx,:]\n",
        "          batch_y = self.y[:,idx,:]-1\n",
        "          augmented = self.aug2(image=batch_x, mask=batch_y)          \n",
        "        image, mask = augmented['image'], augmented['mask']\n",
        "        return image[None,:,:], mask\n",
        "    \n",
        "class seisdataset_test(Dataset):\n",
        "    def __init__(self, x_set, y_set):\n",
        "        self.x, self.y = x_set, y_set\n",
        "        self.n_sample = self.x.shape[1]\n",
        "        self.aug2 = A.Compose([\n",
        "            A.Resize(p=1, height=640, width=320, interpolation=0)\n",
        "        ])  \n",
        "\n",
        "    def __len__(self):\n",
        "        return self.n_sample\n",
        "    \n",
        "    def __getitem__(self, index):\n",
        "        batch_x = self.x[:,index,:]\n",
        "        batch_y = self.y[:,index,:]-1\n",
        "        augmented = self.aug2(image=batch_x, mask=batch_y)\n",
        "        image, mask = augmented['image'], augmented['mask']\n",
        "        return image[None,:,:], mask"
      ],
      "execution_count": null,
      "outputs": []
    },
    {
      "cell_type": "code",
      "metadata": {
        "id": "fxHbY93HhGow"
      },
      "source": [
        "split_sample = 0.9\n",
        "test_data = train_data_full[:,:train_data_full.shape[1]-int(train_data_full.shape[1]*split_sample),:]\n",
        "train_data = train_data_full[:,train_data_full.shape[1]-int(train_data_full.shape[1]*split_sample):,:]\n",
        "test_label = train_label_full[:,:train_label_full.shape[1]-int(train_label_full.shape[1]*split_sample),:]\n",
        "train_label = train_label_full[:,train_label_full.shape[1]-int(train_label_full.shape[1]*split_sample):,:]\n",
        "\n",
        "train_dataset = seisdataset_train(train_data, train_label)\n",
        "def get_data_loaders(batch_size):\n",
        "    train_dataset = seisdataset_train(train_data, train_label)\n",
        "    test_dataset = seisdataset_test(test_data, test_label)\n",
        "    \n",
        "    train_loader = DataLoader(dataset = train_dataset, batch_size = batch_size, shuffle=True, drop_last=True)\n",
        "    test_loader = DataLoader(dataset = test_dataset, batch_size = batch_size, shuffle=False, drop_last=True)\n",
        "    return train_loader,test_loader\n",
        "\n",
        "train_loader,test_loader=get_data_loaders(batch_size)\n",
        "\n",
        "criterion = torch.nn.CrossEntropyLoss()\n",
        "optimizer = torch.optim.Adam(model.parameters(),lr = learning_rate)"
      ],
      "execution_count": null,
      "outputs": []
    },
    {
      "cell_type": "code",
      "metadata": {
        "id": "Z7IETg-rhgbs"
      },
      "source": [
        "train_losses = []\n",
        "valid_losses = []\n",
        "train_F1 = []\n",
        "test_F1 = []\n",
        "test_F1_uw = []\n",
        "train_acc = []\n",
        "test_acc = []\n",
        "F1_old = 0.0\n",
        "F1uw_old = 0.0"
      ],
      "execution_count": null,
      "outputs": []
    },
    {
      "cell_type": "code",
      "metadata": {
        "colab": {
          "base_uri": "https://localhost:8080/"
        },
        "id": "QnhxBqNGijGn",
        "outputId": "57458551-ec15-4882-f2be-52c95039e557"
      },
      "source": [
        "!wandb login"
      ],
      "execution_count": null,
      "outputs": [
        {
          "name": "stdout",
          "output_type": "stream",
          "text": [
            "\u001b[34m\u001b[1mwandb\u001b[0m: You can find your API key in your browser here: https://wandb.ai/authorize\n",
            "\u001b[34m\u001b[1mwandb\u001b[0m: Paste an API key from your profile and hit enter: \n",
            "\u001b[34m\u001b[1mwandb\u001b[0m: Appending key for api.wandb.ai to your netrc file: /root/.netrc\n"
          ]
        }
      ]
    },
    {
      "cell_type": "code",
      "metadata": {
        "colab": {
          "base_uri": "https://localhost:8080/",
          "height": 1000
        },
        "id": "WfapqRBuhsF2",
        "outputId": "51815948-7dd7-463d-9000-b409bbf65118"
      },
      "source": [
        "#use this code in case your challenge code/process is different than mine and you don't want to use catalyst. This code is modified code of starter notebook from \n",
        "@leo\n",
        "#init weights and baises\n",
        "import wandb\n",
        "from tqdm import tqdm\n",
        "\n",
        "wandb.init(project='seismic-facies-AIcrowd-pytorch',\n",
        "           config = {'batch_size': batch_size,      \n",
        "                        'num_epochs' :num_epochs ,     \n",
        "                        'num_classes': num_classes,       \n",
        "                        'learning_rate': learning_rate })\n",
        "\n",
        "for epoch in range(1, num_epochs + 1):\n",
        "    train_loss = 0.0\n",
        "    valid_loss = 0.0\n",
        "    F1_train = 0.0\n",
        "    acc_train = 0.0\n",
        "    F1_test = 0.0\n",
        "    F1uw_test = 0.0\n",
        "    acc_test = 0.0    \n",
        "    model.train()\n",
        "    for i, (data, label) in tqdm(enumerate(train_loader), total=len(train_loader), smoothing=0.9):\n",
        "        data = data.to(device)\n",
        "        label = label.to(device)\n",
        "        optimizer.zero_grad()\n",
        "        output = model(data.float())\n",
        "        pred = output.data.max(1)[1].cpu().numpy()[:, :, :]\n",
        "        loss = criterion(output, label.long())\n",
        "        acc = accuracy_score(label.cpu().numpy().flatten()+1, pred.flatten()+1)\n",
        "        f1s, f1uw = compute_scores(label.cpu().numpy().flatten()+1, pred.flatten()+1)   \n",
        "        loss.backward()\n",
        "        optimizer.step()\n",
        "        train_loss += loss.item() * data.size(0)\n",
        "        F1_train += f1s\n",
        "        acc_train += acc\n",
        "\n",
        "        if i % 20 == 19:    # print every 20 batches\n",
        "            print('[%d, %5d] loss: %.3f' %\n",
        "                  (epoch + 1, i + 1, train_loss))\n",
        "            wandb.log({'epoch': epoch+1, 'train_loss': train_loss})\n",
        "            running_loss = 0.0\n",
        "        \n",
        "    model.eval()\n",
        "    for data, label in test_loader:        \n",
        "        data = data.to(device)\n",
        "        label = label.to(device)\n",
        "        output = model(data.float())\n",
        "        pred = output.data.max(1)[1].cpu().numpy()[:, :, :]\n",
        "        loss = criterion(output, label.long())\n",
        "        acc = accuracy_score(label.cpu().numpy().flatten()+1, pred.flatten()+1)\n",
        "        f1s, f1uw = compute_scores(label.cpu().numpy().flatten()+1, pred.flatten()+1)  \n",
        "        valid_loss += loss.item() * data.size(0)\n",
        "        F1_test += f1s\n",
        "        F1uw_test += f1uw\n",
        "        acc_test += acc\n",
        "\n",
        "    train_loss = train_loss/len(train_loader.sampler)\n",
        "    F1_train = F1_train/len(train_loader.sampler)*batch_size\n",
        "    acc_train = acc_train/len(train_loader.sampler)*batch_size    \n",
        "    valid_loss = valid_loss/len(test_loader.sampler)*batch_size\n",
        "    F1_test = F1_test/len(test_loader.sampler)*batch_size\n",
        "    F1uw_test = F1uw_test /len(test_loader.sampler)*batch_size\n",
        "    acc_test = acc_test/len(test_loader.sampler)*batch_size\n",
        "    train_losses.append(train_loss)\n",
        "    valid_losses.append(valid_loss)\n",
        "    train_F1.append(F1_train)\n",
        "    test_F1.append(F1_test)\n",
        "    test_F1_uw.append(F1uw_test)\n",
        "    train_acc.append(acc_train)\n",
        "    test_acc.append(acc_test)      \n",
        "\n",
        "    if F1_old < F1_test:\n",
        "      F1_old = F1_test\n",
        "      torch.save(model.state_dict(), 'modelbestf1_weighted_run1.ckpt')\n",
        "    if F1uw_old < F1uw_test:\n",
        "      F1uw_old = F1uw_test\n",
        "      torch.save(model.state_dict(), 'modelbestf1_unweighted_run1.ckpt')  \n",
        "\n",
        "    # print\n",
        "    print('Epoch: {} \\tTrain Loss: {:.3f} \\tVal. Loss: {:.3f} \\tF1_train: {:.3f} \\tF1_test: {:.3f} \\tF1u_test: {:.3f}'.format(\n",
        "        epoch, train_loss, valid_loss, F1_train, F1_test, F1uw_test))"
      ],
      "execution_count": null,
      "outputs": [
        {
          "name": "stderr",
          "output_type": "stream",
          "text": [
            "\u001b[34m\u001b[1mwandb\u001b[0m: Currently logged in as: \u001b[33mjeromepatel\u001b[0m (use `wandb login --relogin` to force relogin)\n"
          ]
        },
        {
          "data": {
            "text/html": [
              "\n",
              "                    Syncing run <strong><a href=\"https://wandb.ai/jeromepatel/seismic-facies-AIcrowd-pytorch/runs/1007v2hp\" target=\"_blank\">dry-sky-4</a></strong> to <a href=\"https://wandb.ai/jeromepatel/seismic-facies-AIcrowd-pytorch\" target=\"_blank\">Weights & Biases</a> (<a href=\"https://docs.wandb.com/integrations/jupyter.html\" target=\"_blank\">docs</a>).<br/>\n",
              "\n",
              "                "
            ],
            "text/plain": [
              "<IPython.core.display.HTML object>"
            ]
          },
          "metadata": {},
          "output_type": "display_data"
        },
        {
          "name": "stderr",
          "output_type": "stream",
          "text": [
            " 10%|█         | 20/199 [00:44<05:52,  1.97s/it]"
          ]
        },
        {
          "name": "stdout",
          "output_type": "stream",
          "text": [
            "[2,    20] loss: 243.912\n"
          ]
        },
        {
          "name": "stderr",
          "output_type": "stream",
          "text": [
            " 20%|██        | 40/199 [01:21<04:31,  1.71s/it]"
          ]
        },
        {
          "name": "stdout",
          "output_type": "stream",
          "text": [
            "[2,    40] loss: 389.990\n"
          ]
        },
        {
          "name": "stderr",
          "output_type": "stream",
          "text": [
            " 30%|███       | 60/199 [01:59<05:39,  2.44s/it]"
          ]
        },
        {
          "name": "stdout",
          "output_type": "stream",
          "text": [
            "[2,    60] loss: 499.619\n"
          ]
        },
        {
          "name": "stderr",
          "output_type": "stream",
          "text": [
            " 40%|████      | 80/199 [02:36<03:54,  1.97s/it]"
          ]
        },
        {
          "name": "stdout",
          "output_type": "stream",
          "text": [
            "[2,    80] loss: 587.648\n"
          ]
        },
        {
          "name": "stderr",
          "output_type": "stream",
          "text": [
            " 50%|█████     | 100/199 [03:13<03:01,  1.83s/it]"
          ]
        },
        {
          "name": "stdout",
          "output_type": "stream",
          "text": [
            "[2,   100] loss: 657.560\n"
          ]
        },
        {
          "name": "stderr",
          "output_type": "stream",
          "text": [
            " 60%|██████    | 120/199 [03:49<02:34,  1.96s/it]"
          ]
        },
        {
          "name": "stdout",
          "output_type": "stream",
          "text": [
            "[2,   120] loss: 719.826\n"
          ]
        },
        {
          "name": "stderr",
          "output_type": "stream",
          "text": [
            " 70%|███████   | 140/199 [04:25<02:31,  2.57s/it]"
          ]
        },
        {
          "name": "stdout",
          "output_type": "stream",
          "text": [
            "[2,   140] loss: 781.404\n"
          ]
        },
        {
          "name": "stderr",
          "output_type": "stream",
          "text": [
            " 80%|████████  | 160/199 [05:00<01:26,  2.22s/it]"
          ]
        },
        {
          "name": "stdout",
          "output_type": "stream",
          "text": [
            "[2,   160] loss: 835.353\n"
          ]
        },
        {
          "name": "stderr",
          "output_type": "stream",
          "text": [
            " 90%|█████████ | 180/199 [05:34<00:32,  1.73s/it]"
          ]
        },
        {
          "name": "stdout",
          "output_type": "stream",
          "text": [
            "[2,   180] loss: 881.772\n"
          ]
        },
        {
          "name": "stderr",
          "output_type": "stream",
          "text": [
            "100%|██████████| 199/199 [06:08<00:00,  1.85s/it]\n"
          ]
        },
        {
          "name": "stdout",
          "output_type": "stream",
          "text": [
            "Epoch: 1 \tTrain Loss: 0.464 \tVal. Loss: 26.848 \tF1_train: 0.556 \tF1_test: 0.008 \tF1u_test: 0.056\n"
          ]
        },
        {
          "name": "stderr",
          "output_type": "stream",
          "text": [
            " 10%|█         | 20/199 [00:37<06:04,  2.04s/it]"
          ]
        },
        {
          "name": "stdout",
          "output_type": "stream",
          "text": [
            "[3,    20] loss: 47.640\n"
          ]
        },
        {
          "name": "stderr",
          "output_type": "stream",
          "text": [
            " 20%|██        | 40/199 [01:13<05:55,  2.23s/it]"
          ]
        },
        {
          "name": "stdout",
          "output_type": "stream",
          "text": [
            "[3,    40] loss: 91.418\n"
          ]
        },
        {
          "name": "stderr",
          "output_type": "stream",
          "text": [
            " 30%|███       | 60/199 [01:48<04:08,  1.79s/it]"
          ]
        },
        {
          "name": "stdout",
          "output_type": "stream",
          "text": [
            "[3,    60] loss: 135.410\n"
          ]
        },
        {
          "name": "stderr",
          "output_type": "stream",
          "text": [
            " 40%|████      | 80/199 [02:25<05:05,  2.57s/it]"
          ]
        },
        {
          "name": "stdout",
          "output_type": "stream",
          "text": [
            "[3,    80] loss: 177.288\n"
          ]
        },
        {
          "name": "stderr",
          "output_type": "stream",
          "text": [
            " 50%|█████     | 100/199 [03:02<03:14,  1.97s/it]"
          ]
        },
        {
          "name": "stdout",
          "output_type": "stream",
          "text": [
            "[3,   100] loss: 216.719\n"
          ]
        },
        {
          "name": "stderr",
          "output_type": "stream",
          "text": [
            " 60%|██████    | 120/199 [03:36<02:14,  1.70s/it]"
          ]
        },
        {
          "name": "stdout",
          "output_type": "stream",
          "text": [
            "[3,   120] loss: 254.484\n"
          ]
        },
        {
          "name": "stderr",
          "output_type": "stream",
          "text": [
            " 70%|███████   | 140/199 [04:13<01:29,  1.52s/it]"
          ]
        },
        {
          "name": "stdout",
          "output_type": "stream",
          "text": [
            "[3,   140] loss: 291.275\n"
          ]
        },
        {
          "name": "stderr",
          "output_type": "stream",
          "text": [
            " 80%|████████  | 160/199 [04:50<01:00,  1.56s/it]"
          ]
        },
        {
          "name": "stdout",
          "output_type": "stream",
          "text": [
            "[3,   160] loss: 326.792\n"
          ]
        },
        {
          "name": "stderr",
          "output_type": "stream",
          "text": [
            " 90%|█████████ | 180/199 [05:26<00:28,  1.50s/it]"
          ]
        },
        {
          "name": "stdout",
          "output_type": "stream",
          "text": [
            "[3,   180] loss: 359.987\n"
          ]
        },
        {
          "name": "stderr",
          "output_type": "stream",
          "text": [
            "100%|██████████| 199/199 [06:00<00:00,  1.81s/it]\n"
          ]
        },
        {
          "name": "stdout",
          "output_type": "stream",
          "text": [
            "Epoch: 2 \tTrain Loss: 0.195 \tVal. Loss: 23.247 \tF1_train: 0.754 \tF1_test: 0.065 \tF1u_test: 0.196\n"
          ]
        },
        {
          "name": "stderr",
          "output_type": "stream",
          "text": [
            " 10%|█         | 20/199 [00:38<05:16,  1.77s/it]"
          ]
        },
        {
          "name": "stdout",
          "output_type": "stream",
          "text": [
            "[4,    20] loss: 31.487\n"
          ]
        },
        {
          "name": "stderr",
          "output_type": "stream",
          "text": [
            " 20%|██        | 40/199 [01:16<05:52,  2.22s/it]"
          ]
        },
        {
          "name": "stdout",
          "output_type": "stream",
          "text": [
            "[4,    40] loss: 62.230\n"
          ]
        },
        {
          "name": "stderr",
          "output_type": "stream",
          "text": [
            " 30%|███       | 60/199 [01:52<03:21,  1.45s/it]"
          ]
        },
        {
          "name": "stdout",
          "output_type": "stream",
          "text": [
            "[4,    60] loss: 92.989\n"
          ]
        },
        {
          "name": "stderr",
          "output_type": "stream",
          "text": [
            " 40%|████      | 80/199 [02:27<03:00,  1.51s/it]"
          ]
        },
        {
          "name": "stdout",
          "output_type": "stream",
          "text": [
            "[4,    80] loss: 122.739\n"
          ]
        },
        {
          "name": "stderr",
          "output_type": "stream",
          "text": [
            " 50%|█████     | 100/199 [03:05<04:03,  2.46s/it]"
          ]
        },
        {
          "name": "stdout",
          "output_type": "stream",
          "text": [
            "[4,   100] loss: 153.205\n"
          ]
        },
        {
          "name": "stderr",
          "output_type": "stream",
          "text": [
            " 60%|██████    | 120/199 [03:41<02:17,  1.74s/it]"
          ]
        },
        {
          "name": "stdout",
          "output_type": "stream",
          "text": [
            "[4,   120] loss: 182.705\n"
          ]
        },
        {
          "name": "stderr",
          "output_type": "stream",
          "text": [
            " 70%|███████   | 140/199 [04:19<01:54,  1.94s/it]"
          ]
        },
        {
          "name": "stdout",
          "output_type": "stream",
          "text": [
            "[4,   140] loss: 211.271\n"
          ]
        },
        {
          "name": "stderr",
          "output_type": "stream",
          "text": [
            " 80%|████████  | 160/199 [04:57<00:58,  1.50s/it]"
          ]
        },
        {
          "name": "stdout",
          "output_type": "stream",
          "text": [
            "[4,   160] loss: 239.011\n"
          ]
        },
        {
          "name": "stderr",
          "output_type": "stream",
          "text": [
            " 90%|█████████ | 180/199 [05:32<00:32,  1.73s/it]"
          ]
        },
        {
          "name": "stdout",
          "output_type": "stream",
          "text": [
            "[4,   180] loss: 268.384\n"
          ]
        },
        {
          "name": "stderr",
          "output_type": "stream",
          "text": [
            "100%|██████████| 199/199 [06:06<00:00,  1.84s/it]\n"
          ]
        },
        {
          "name": "stdout",
          "output_type": "stream",
          "text": [
            "Epoch: 3 \tTrain Loss: 0.148 \tVal. Loss: 1.895 \tF1_train: 0.807 \tF1_test: 0.349 \tF1u_test: 0.641\n"
          ]
        },
        {
          "name": "stderr",
          "output_type": "stream",
          "text": [
            " 10%|█         | 20/199 [00:35<05:03,  1.69s/it]"
          ]
        },
        {
          "name": "stdout",
          "output_type": "stream",
          "text": [
            "[5,    20] loss: 27.147\n"
          ]
        },
        {
          "name": "stderr",
          "output_type": "stream",
          "text": [
            " 20%|██        | 40/199 [01:10<04:32,  1.71s/it]"
          ]
        },
        {
          "name": "stdout",
          "output_type": "stream",
          "text": [
            "[5,    40] loss: 51.793\n"
          ]
        },
        {
          "name": "stderr",
          "output_type": "stream",
          "text": [
            " 30%|███       | 60/199 [01:47<03:56,  1.70s/it]"
          ]
        },
        {
          "name": "stdout",
          "output_type": "stream",
          "text": [
            "[5,    60] loss: 77.580\n"
          ]
        },
        {
          "name": "stderr",
          "output_type": "stream",
          "text": [
            " 40%|████      | 80/199 [02:23<03:57,  2.00s/it]"
          ]
        },
        {
          "name": "stdout",
          "output_type": "stream",
          "text": [
            "[5,    80] loss: 102.186\n"
          ]
        },
        {
          "name": "stderr",
          "output_type": "stream",
          "text": [
            " 50%|█████     | 100/199 [03:00<03:01,  1.83s/it]"
          ]
        },
        {
          "name": "stdout",
          "output_type": "stream",
          "text": [
            "[5,   100] loss: 128.734\n"
          ]
        },
        {
          "name": "stderr",
          "output_type": "stream",
          "text": [
            " 60%|██████    | 120/199 [03:35<02:30,  1.91s/it]"
          ]
        },
        {
          "name": "stdout",
          "output_type": "stream",
          "text": [
            "[5,   120] loss: 153.494\n"
          ]
        },
        {
          "name": "stderr",
          "output_type": "stream",
          "text": [
            " 70%|███████   | 140/199 [04:09<01:26,  1.47s/it]"
          ]
        },
        {
          "name": "stdout",
          "output_type": "stream",
          "text": [
            "[5,   140] loss: 176.466\n"
          ]
        },
        {
          "name": "stderr",
          "output_type": "stream",
          "text": [
            " 80%|████████  | 160/199 [04:46<01:08,  1.74s/it]"
          ]
        },
        {
          "name": "stdout",
          "output_type": "stream",
          "text": [
            "[5,   160] loss: 200.028\n"
          ]
        },
        {
          "name": "stderr",
          "output_type": "stream",
          "text": [
            " 90%|█████████ | 180/199 [05:23<00:29,  1.56s/it]"
          ]
        },
        {
          "name": "stdout",
          "output_type": "stream",
          "text": [
            "[5,   180] loss: 225.647\n"
          ]
        },
        {
          "name": "stderr",
          "output_type": "stream",
          "text": [
            "100%|██████████| 199/199 [06:00<00:00,  1.81s/it]\n"
          ]
        },
        {
          "name": "stdout",
          "output_type": "stream",
          "text": [
            "Epoch: 4 \tTrain Loss: 0.125 \tVal. Loss: 1.467 \tF1_train: 0.831 \tF1_test: 0.397 \tF1u_test: 0.662\n"
          ]
        },
        {
          "name": "stderr",
          "output_type": "stream",
          "text": [
            " 10%|█         | 20/199 [00:36<05:19,  1.78s/it]"
          ]
        },
        {
          "name": "stdout",
          "output_type": "stream",
          "text": [
            "[6,    20] loss: 23.034\n"
          ]
        },
        {
          "name": "stderr",
          "output_type": "stream",
          "text": [
            " 20%|██        | 40/199 [01:13<04:48,  1.81s/it]"
          ]
        },
        {
          "name": "stdout",
          "output_type": "stream",
          "text": [
            "[6,    40] loss: 48.018\n"
          ]
        },
        {
          "name": "stderr",
          "output_type": "stream",
          "text": [
            " 30%|███       | 60/199 [01:47<03:53,  1.68s/it]"
          ]
        },
        {
          "name": "stdout",
          "output_type": "stream",
          "text": [
            "[6,    60] loss: 69.359\n"
          ]
        },
        {
          "name": "stderr",
          "output_type": "stream",
          "text": [
            " 40%|████      | 80/199 [02:24<03:23,  1.71s/it]"
          ]
        },
        {
          "name": "stdout",
          "output_type": "stream",
          "text": [
            "[6,    80] loss: 92.217\n"
          ]
        },
        {
          "name": "stderr",
          "output_type": "stream",
          "text": [
            " 50%|█████     | 100/199 [03:00<03:30,  2.12s/it]"
          ]
        },
        {
          "name": "stdout",
          "output_type": "stream",
          "text": [
            "[6,   100] loss: 115.101\n"
          ]
        },
        {
          "name": "stderr",
          "output_type": "stream",
          "text": [
            " 60%|██████    | 120/199 [03:36<02:36,  1.98s/it]"
          ]
        },
        {
          "name": "stdout",
          "output_type": "stream",
          "text": [
            "[6,   120] loss: 138.529\n"
          ]
        },
        {
          "name": "stderr",
          "output_type": "stream",
          "text": [
            " 70%|███████   | 140/199 [04:12<02:01,  2.06s/it]"
          ]
        },
        {
          "name": "stdout",
          "output_type": "stream",
          "text": [
            "[6,   140] loss: 161.984\n"
          ]
        },
        {
          "name": "stderr",
          "output_type": "stream",
          "text": [
            " 80%|████████  | 160/199 [04:50<01:54,  2.93s/it]"
          ]
        },
        {
          "name": "stdout",
          "output_type": "stream",
          "text": [
            "[6,   160] loss: 182.775\n"
          ]
        },
        {
          "name": "stderr",
          "output_type": "stream",
          "text": [
            " 90%|█████████ | 180/199 [05:28<00:28,  1.50s/it]"
          ]
        },
        {
          "name": "stdout",
          "output_type": "stream",
          "text": [
            "[6,   180] loss: 203.637\n"
          ]
        },
        {
          "name": "stderr",
          "output_type": "stream",
          "text": [
            "100%|██████████| 199/199 [06:02<00:00,  1.82s/it]\n"
          ]
        },
        {
          "name": "stdout",
          "output_type": "stream",
          "text": [
            "Epoch: 5 \tTrain Loss: 0.112 \tVal. Loss: 1.292 \tF1_train: 0.848 \tF1_test: 0.398 \tF1u_test: 0.674\n"
          ]
        },
        {
          "name": "stderr",
          "output_type": "stream",
          "text": [
            " 10%|█         | 20/199 [00:40<05:24,  1.81s/it]"
          ]
        },
        {
          "name": "stdout",
          "output_type": "stream",
          "text": [
            "[7,    20] loss: 20.119\n"
          ]
        },
        {
          "name": "stderr",
          "output_type": "stream",
          "text": [
            " 20%|██        | 40/199 [01:15<04:39,  1.76s/it]"
          ]
        },
        {
          "name": "stdout",
          "output_type": "stream",
          "text": [
            "[7,    40] loss: 40.630\n"
          ]
        },
        {
          "name": "stderr",
          "output_type": "stream",
          "text": [
            " 30%|███       | 60/199 [01:50<04:04,  1.76s/it]"
          ]
        },
        {
          "name": "stdout",
          "output_type": "stream",
          "text": [
            "[7,    60] loss: 60.076\n"
          ]
        },
        {
          "name": "stderr",
          "output_type": "stream",
          "text": [
            " 40%|████      | 80/199 [02:25<02:56,  1.48s/it]"
          ]
        },
        {
          "name": "stdout",
          "output_type": "stream",
          "text": [
            "[7,    80] loss: 79.605\n"
          ]
        },
        {
          "name": "stderr",
          "output_type": "stream",
          "text": [
            " 50%|█████     | 100/199 [03:01<02:48,  1.71s/it]"
          ]
        },
        {
          "name": "stdout",
          "output_type": "stream",
          "text": [
            "[7,   100] loss: 99.966\n"
          ]
        },
        {
          "name": "stderr",
          "output_type": "stream",
          "text": [
            " 60%|██████    | 120/199 [03:38<02:15,  1.72s/it]"
          ]
        },
        {
          "name": "stdout",
          "output_type": "stream",
          "text": [
            "[7,   120] loss: 119.370\n"
          ]
        },
        {
          "name": "stderr",
          "output_type": "stream",
          "text": [
            " 70%|███████   | 140/199 [04:14<01:55,  1.96s/it]"
          ]
        },
        {
          "name": "stdout",
          "output_type": "stream",
          "text": [
            "[7,   140] loss: 139.703\n"
          ]
        },
        {
          "name": "stderr",
          "output_type": "stream",
          "text": [
            " 80%|████████  | 160/199 [04:50<01:34,  2.43s/it]"
          ]
        },
        {
          "name": "stdout",
          "output_type": "stream",
          "text": [
            "[7,   160] loss: 159.042\n"
          ]
        },
        {
          "name": "stderr",
          "output_type": "stream",
          "text": [
            " 90%|█████████ | 180/199 [05:25<00:28,  1.51s/it]"
          ]
        },
        {
          "name": "stdout",
          "output_type": "stream",
          "text": [
            "[7,   180] loss: 178.891\n"
          ]
        },
        {
          "name": "stderr",
          "output_type": "stream",
          "text": [
            "100%|██████████| 199/199 [05:57<00:00,  1.79s/it]\n"
          ]
        },
        {
          "name": "stdout",
          "output_type": "stream",
          "text": [
            "Epoch: 6 \tTrain Loss: 0.098 \tVal. Loss: 1.377 \tF1_train: 0.861 \tF1_test: 0.402 \tF1u_test: 0.675\n"
          ]
        },
        {
          "name": "stderr",
          "output_type": "stream",
          "text": [
            " 10%|█         | 20/199 [00:36<06:11,  2.07s/it]"
          ]
        },
        {
          "name": "stdout",
          "output_type": "stream",
          "text": [
            "[8,    20] loss: 19.891\n"
          ]
        },
        {
          "name": "stderr",
          "output_type": "stream",
          "text": [
            " 20%|██        | 40/199 [01:11<04:44,  1.79s/it]"
          ]
        },
        {
          "name": "stdout",
          "output_type": "stream",
          "text": [
            "[8,    40] loss: 40.554\n"
          ]
        },
        {
          "name": "stderr",
          "output_type": "stream",
          "text": [
            " 30%|███       | 60/199 [01:50<03:29,  1.51s/it]"
          ]
        },
        {
          "name": "stdout",
          "output_type": "stream",
          "text": [
            "[8,    60] loss: 61.837\n"
          ]
        },
        {
          "name": "stderr",
          "output_type": "stream",
          "text": [
            " 40%|████      | 80/199 [02:26<03:05,  1.56s/it]"
          ]
        },
        {
          "name": "stdout",
          "output_type": "stream",
          "text": [
            "[8,    80] loss: 81.482\n"
          ]
        },
        {
          "name": "stderr",
          "output_type": "stream",
          "text": [
            " 50%|█████     | 100/199 [03:06<03:43,  2.26s/it]"
          ]
        },
        {
          "name": "stdout",
          "output_type": "stream",
          "text": [
            "[8,   100] loss: 102.821\n"
          ]
        },
        {
          "name": "stderr",
          "output_type": "stream",
          "text": [
            " 60%|██████    | 120/199 [03:41<02:18,  1.75s/it]"
          ]
        },
        {
          "name": "stdout",
          "output_type": "stream",
          "text": [
            "[8,   120] loss: 121.403\n"
          ]
        },
        {
          "name": "stderr",
          "output_type": "stream",
          "text": [
            " 70%|███████   | 140/199 [04:18<01:44,  1.78s/it]"
          ]
        },
        {
          "name": "stdout",
          "output_type": "stream",
          "text": [
            "[8,   140] loss: 140.687\n"
          ]
        },
        {
          "name": "stderr",
          "output_type": "stream",
          "text": [
            " 80%|████████  | 160/199 [04:55<01:08,  1.76s/it]"
          ]
        },
        {
          "name": "stdout",
          "output_type": "stream",
          "text": [
            "[8,   160] loss: 159.058\n"
          ]
        },
        {
          "name": "stderr",
          "output_type": "stream",
          "text": [
            " 90%|█████████ | 180/199 [05:34<00:29,  1.54s/it]"
          ]
        },
        {
          "name": "stdout",
          "output_type": "stream",
          "text": [
            "[8,   180] loss: 176.803\n"
          ]
        },
        {
          "name": "stderr",
          "output_type": "stream",
          "text": [
            "100%|██████████| 199/199 [06:11<00:00,  1.87s/it]\n"
          ]
        },
        {
          "name": "stdout",
          "output_type": "stream",
          "text": [
            "Epoch: 7 \tTrain Loss: 0.097 \tVal. Loss: 1.274 \tF1_train: 0.865 \tF1_test: 0.409 \tF1u_test: 0.677\n"
          ]
        },
        {
          "name": "stderr",
          "output_type": "stream",
          "text": [
            " 10%|█         | 20/199 [00:35<05:54,  1.98s/it]"
          ]
        },
        {
          "name": "stdout",
          "output_type": "stream",
          "text": [
            "[9,    20] loss: 16.678\n"
          ]
        },
        {
          "name": "stderr",
          "output_type": "stream",
          "text": [
            " 20%|██        | 40/199 [01:12<03:57,  1.49s/it]"
          ]
        },
        {
          "name": "stdout",
          "output_type": "stream",
          "text": [
            "[9,    40] loss: 34.669\n"
          ]
        },
        {
          "name": "stderr",
          "output_type": "stream",
          "text": [
            " 30%|███       | 60/199 [01:47<03:21,  1.45s/it]"
          ]
        },
        {
          "name": "stdout",
          "output_type": "stream",
          "text": [
            "[9,    60] loss: 52.761\n"
          ]
        },
        {
          "name": "stderr",
          "output_type": "stream",
          "text": [
            " 40%|████      | 80/199 [02:25<03:03,  1.54s/it]"
          ]
        },
        {
          "name": "stdout",
          "output_type": "stream",
          "text": [
            "[9,    80] loss: 70.986\n"
          ]
        },
        {
          "name": "stderr",
          "output_type": "stream",
          "text": [
            " 50%|█████     | 100/199 [03:01<03:00,  1.82s/it]"
          ]
        },
        {
          "name": "stdout",
          "output_type": "stream",
          "text": [
            "[9,   100] loss: 89.388\n"
          ]
        },
        {
          "name": "stderr",
          "output_type": "stream",
          "text": [
            " 60%|██████    | 120/199 [03:35<01:55,  1.47s/it]"
          ]
        },
        {
          "name": "stdout",
          "output_type": "stream",
          "text": [
            "[9,   120] loss: 107.180\n"
          ]
        },
        {
          "name": "stderr",
          "output_type": "stream",
          "text": [
            " 70%|███████   | 140/199 [04:10<01:30,  1.53s/it]"
          ]
        },
        {
          "name": "stdout",
          "output_type": "stream",
          "text": [
            "[9,   140] loss: 124.911\n"
          ]
        },
        {
          "name": "stderr",
          "output_type": "stream",
          "text": [
            " 80%|████████  | 160/199 [04:49<01:09,  1.78s/it]"
          ]
        },
        {
          "name": "stdout",
          "output_type": "stream",
          "text": [
            "[9,   160] loss: 143.012\n"
          ]
        },
        {
          "name": "stderr",
          "output_type": "stream",
          "text": [
            " 90%|█████████ | 180/199 [05:27<00:33,  1.78s/it]"
          ]
        },
        {
          "name": "stdout",
          "output_type": "stream",
          "text": [
            "[9,   180] loss: 161.314\n"
          ]
        },
        {
          "name": "stderr",
          "output_type": "stream",
          "text": [
            "100%|██████████| 199/199 [06:02<00:00,  1.82s/it]\n"
          ]
        },
        {
          "name": "stdout",
          "output_type": "stream",
          "text": [
            "Epoch: 8 \tTrain Loss: 0.089 \tVal. Loss: 1.352 \tF1_train: 0.874 \tF1_test: 0.415 \tF1u_test: 0.679\n"
          ]
        },
        {
          "name": "stderr",
          "output_type": "stream",
          "text": [
            " 10%|█         | 20/199 [00:36<05:59,  2.01s/it]"
          ]
        },
        {
          "name": "stdout",
          "output_type": "stream",
          "text": [
            "[10,    20] loss: 16.832\n"
          ]
        },
        {
          "name": "stderr",
          "output_type": "stream",
          "text": [
            " 20%|██        | 40/199 [01:12<04:36,  1.74s/it]"
          ]
        },
        {
          "name": "stdout",
          "output_type": "stream",
          "text": [
            "[10,    40] loss: 33.458\n"
          ]
        },
        {
          "name": "stderr",
          "output_type": "stream",
          "text": [
            " 30%|███       | 60/199 [01:49<04:07,  1.78s/it]"
          ]
        },
        {
          "name": "stdout",
          "output_type": "stream",
          "text": [
            "[10,    60] loss: 49.963\n"
          ]
        },
        {
          "name": "stderr",
          "output_type": "stream",
          "text": [
            " 40%|████      | 80/199 [02:23<03:29,  1.76s/it]"
          ]
        },
        {
          "name": "stdout",
          "output_type": "stream",
          "text": [
            "[10,    80] loss: 67.240\n"
          ]
        },
        {
          "name": "stderr",
          "output_type": "stream",
          "text": [
            " 50%|█████     | 100/199 [03:01<03:20,  2.02s/it]"
          ]
        },
        {
          "name": "stdout",
          "output_type": "stream",
          "text": [
            "[10,   100] loss: 84.704\n"
          ]
        },
        {
          "name": "stderr",
          "output_type": "stream",
          "text": [
            " 60%|██████    | 120/199 [03:37<03:04,  2.33s/it]"
          ]
        },
        {
          "name": "stdout",
          "output_type": "stream",
          "text": [
            "[10,   120] loss: 101.400\n"
          ]
        },
        {
          "name": "stderr",
          "output_type": "stream",
          "text": [
            " 70%|███████   | 140/199 [04:12<01:28,  1.50s/it]"
          ]
        },
        {
          "name": "stdout",
          "output_type": "stream",
          "text": [
            "[10,   140] loss: 118.700\n"
          ]
        },
        {
          "name": "stderr",
          "output_type": "stream",
          "text": [
            " 80%|████████  | 160/199 [04:50<00:57,  1.47s/it]"
          ]
        },
        {
          "name": "stdout",
          "output_type": "stream",
          "text": [
            "[10,   160] loss: 137.327\n"
          ]
        },
        {
          "name": "stderr",
          "output_type": "stream",
          "text": [
            " 90%|█████████ | 180/199 [05:28<00:29,  1.54s/it]"
          ]
        },
        {
          "name": "stdout",
          "output_type": "stream",
          "text": [
            "[10,   180] loss: 154.148\n"
          ]
        },
        {
          "name": "stderr",
          "output_type": "stream",
          "text": [
            "100%|██████████| 199/199 [06:01<00:00,  1.81s/it]\n"
          ]
        },
        {
          "name": "stdout",
          "output_type": "stream",
          "text": [
            "Epoch: 9 \tTrain Loss: 0.085 \tVal. Loss: 1.230 \tF1_train: 0.878 \tF1_test: 0.408 \tF1u_test: 0.682\n"
          ]
        },
        {
          "name": "stderr",
          "output_type": "stream",
          "text": [
            " 10%|█         | 20/199 [00:36<06:50,  2.29s/it]"
          ]
        },
        {
          "name": "stdout",
          "output_type": "stream",
          "text": [
            "[11,    20] loss: 16.382\n"
          ]
        },
        {
          "name": "stderr",
          "output_type": "stream",
          "text": [
            " 20%|██        | 40/199 [01:14<04:36,  1.74s/it]"
          ]
        },
        {
          "name": "stdout",
          "output_type": "stream",
          "text": [
            "[11,    40] loss: 33.755\n"
          ]
        },
        {
          "name": "stderr",
          "output_type": "stream",
          "text": [
            " 30%|███       | 60/199 [01:50<03:24,  1.47s/it]"
          ]
        },
        {
          "name": "stdout",
          "output_type": "stream",
          "text": [
            "[11,    60] loss: 49.982\n"
          ]
        },
        {
          "name": "stderr",
          "output_type": "stream",
          "text": [
            " 40%|████      | 80/199 [02:27<03:33,  1.79s/it]"
          ]
        },
        {
          "name": "stdout",
          "output_type": "stream",
          "text": [
            "[11,    80] loss: 67.201\n"
          ]
        },
        {
          "name": "stderr",
          "output_type": "stream",
          "text": [
            " 50%|█████     | 100/199 [03:05<03:29,  2.12s/it]"
          ]
        },
        {
          "name": "stdout",
          "output_type": "stream",
          "text": [
            "[11,   100] loss: 84.697\n"
          ]
        },
        {
          "name": "stderr",
          "output_type": "stream",
          "text": [
            " 60%|██████    | 120/199 [03:43<02:18,  1.75s/it]"
          ]
        },
        {
          "name": "stdout",
          "output_type": "stream",
          "text": [
            "[11,   120] loss: 101.209\n"
          ]
        },
        {
          "name": "stderr",
          "output_type": "stream",
          "text": [
            " 70%|███████   | 140/199 [04:17<01:57,  1.98s/it]"
          ]
        },
        {
          "name": "stdout",
          "output_type": "stream",
          "text": [
            "[11,   140] loss: 117.102\n"
          ]
        },
        {
          "name": "stderr",
          "output_type": "stream",
          "text": [
            " 80%|████████  | 160/199 [04:53<01:18,  2.01s/it]"
          ]
        },
        {
          "name": "stdout",
          "output_type": "stream",
          "text": [
            "[11,   160] loss: 132.584\n"
          ]
        },
        {
          "name": "stderr",
          "output_type": "stream",
          "text": [
            " 90%|█████████ | 180/199 [05:29<00:32,  1.74s/it]"
          ]
        },
        {
          "name": "stdout",
          "output_type": "stream",
          "text": [
            "[11,   180] loss: 148.723\n"
          ]
        },
        {
          "name": "stderr",
          "output_type": "stream",
          "text": [
            "100%|██████████| 199/199 [06:05<00:00,  1.84s/it]\n"
          ]
        },
        {
          "name": "stdout",
          "output_type": "stream",
          "text": [
            "Epoch: 10 \tTrain Loss: 0.082 \tVal. Loss: 1.297 \tF1_train: 0.881 \tF1_test: 0.427 \tF1u_test: 0.688\n"
          ]
        },
        {
          "name": "stderr",
          "output_type": "stream",
          "text": [
            " 10%|█         | 20/199 [00:38<05:59,  2.01s/it]"
          ]
        },
        {
          "name": "stdout",
          "output_type": "stream",
          "text": [
            "[12,    20] loss: 15.907\n"
          ]
        },
        {
          "name": "stderr",
          "output_type": "stream",
          "text": [
            " 20%|██        | 40/199 [01:13<03:59,  1.50s/it]"
          ]
        },
        {
          "name": "stdout",
          "output_type": "stream",
          "text": [
            "[12,    40] loss: 30.746\n"
          ]
        },
        {
          "name": "stderr",
          "output_type": "stream",
          "text": [
            " 30%|███       | 60/199 [01:50<04:06,  1.77s/it]"
          ]
        },
        {
          "name": "stdout",
          "output_type": "stream",
          "text": [
            "[12,    60] loss: 47.271\n"
          ]
        },
        {
          "name": "stderr",
          "output_type": "stream",
          "text": [
            " 40%|████      | 80/199 [02:27<03:23,  1.71s/it]"
          ]
        },
        {
          "name": "stdout",
          "output_type": "stream",
          "text": [
            "[12,    80] loss: 63.917\n"
          ]
        },
        {
          "name": "stderr",
          "output_type": "stream",
          "text": [
            " 50%|█████     | 100/199 [03:04<02:57,  1.79s/it]"
          ]
        },
        {
          "name": "stdout",
          "output_type": "stream",
          "text": [
            "[12,   100] loss: 79.738\n"
          ]
        },
        {
          "name": "stderr",
          "output_type": "stream",
          "text": [
            " 60%|██████    | 120/199 [03:40<01:55,  1.47s/it]"
          ]
        },
        {
          "name": "stdout",
          "output_type": "stream",
          "text": [
            "[12,   120] loss: 96.080\n"
          ]
        },
        {
          "name": "stderr",
          "output_type": "stream",
          "text": [
            " 70%|███████   | 140/199 [04:13<01:55,  1.96s/it]"
          ]
        },
        {
          "name": "stdout",
          "output_type": "stream",
          "text": [
            "[12,   140] loss: 111.987\n"
          ]
        },
        {
          "name": "stderr",
          "output_type": "stream",
          "text": [
            " 80%|████████  | 160/199 [04:50<01:18,  2.01s/it]"
          ]
        },
        {
          "name": "stdout",
          "output_type": "stream",
          "text": [
            "[12,   160] loss: 127.823\n"
          ]
        },
        {
          "name": "stderr",
          "output_type": "stream",
          "text": [
            " 90%|█████████ | 180/199 [05:28<00:39,  2.05s/it]"
          ]
        },
        {
          "name": "stdout",
          "output_type": "stream",
          "text": [
            "[12,   180] loss: 143.837\n"
          ]
        },
        {
          "name": "stderr",
          "output_type": "stream",
          "text": [
            "100%|██████████| 199/199 [06:04<00:00,  1.83s/it]\n"
          ]
        },
        {
          "name": "stdout",
          "output_type": "stream",
          "text": [
            "Epoch: 11 \tTrain Loss: 0.079 \tVal. Loss: 1.259 \tF1_train: 0.884 \tF1_test: 0.425 \tF1u_test: 0.687\n"
          ]
        },
        {
          "name": "stderr",
          "output_type": "stream",
          "text": [
            " 10%|█         | 20/199 [00:38<05:54,  1.98s/it]"
          ]
        },
        {
          "name": "stdout",
          "output_type": "stream",
          "text": [
            "[13,    20] loss: 15.113\n"
          ]
        },
        {
          "name": "stderr",
          "output_type": "stream",
          "text": [
            " 20%|██        | 40/199 [01:15<03:55,  1.48s/it]"
          ]
        },
        {
          "name": "stdout",
          "output_type": "stream",
          "text": [
            "[13,    40] loss: 30.859\n"
          ]
        },
        {
          "name": "stderr",
          "output_type": "stream",
          "text": [
            " 30%|███       | 60/199 [01:52<04:12,  1.82s/it]"
          ]
        },
        {
          "name": "stdout",
          "output_type": "stream",
          "text": [
            "[13,    60] loss: 47.091\n"
          ]
        },
        {
          "name": "stderr",
          "output_type": "stream",
          "text": [
            " 40%|████      | 80/199 [02:28<03:28,  1.76s/it]"
          ]
        },
        {
          "name": "stdout",
          "output_type": "stream",
          "text": [
            "[13,    80] loss: 61.954\n"
          ]
        },
        {
          "name": "stderr",
          "output_type": "stream",
          "text": [
            " 50%|█████     | 100/199 [03:05<02:54,  1.76s/it]"
          ]
        },
        {
          "name": "stdout",
          "output_type": "stream",
          "text": [
            "[13,   100] loss: 76.168\n"
          ]
        },
        {
          "name": "stderr",
          "output_type": "stream",
          "text": [
            " 60%|██████    | 120/199 [03:43<02:13,  1.69s/it]"
          ]
        },
        {
          "name": "stdout",
          "output_type": "stream",
          "text": [
            "[13,   120] loss: 91.548\n"
          ]
        },
        {
          "name": "stderr",
          "output_type": "stream",
          "text": [
            " 70%|███████   | 140/199 [04:17<01:44,  1.78s/it]"
          ]
        },
        {
          "name": "stdout",
          "output_type": "stream",
          "text": [
            "[13,   140] loss: 107.133\n"
          ]
        },
        {
          "name": "stderr",
          "output_type": "stream",
          "text": [
            " 80%|████████  | 160/199 [04:54<01:27,  2.24s/it]"
          ]
        },
        {
          "name": "stdout",
          "output_type": "stream",
          "text": [
            "[13,   160] loss: 121.711\n"
          ]
        },
        {
          "name": "stderr",
          "output_type": "stream",
          "text": [
            " 90%|█████████ | 180/199 [05:30<00:32,  1.70s/it]"
          ]
        },
        {
          "name": "stdout",
          "output_type": "stream",
          "text": [
            "[13,   180] loss: 137.641\n"
          ]
        },
        {
          "name": "stderr",
          "output_type": "stream",
          "text": [
            "100%|██████████| 199/199 [06:07<00:00,  1.85s/it]\n"
          ]
        },
        {
          "name": "stdout",
          "output_type": "stream",
          "text": [
            "Epoch: 12 \tTrain Loss: 0.076 \tVal. Loss: 1.301 \tF1_train: 0.889 \tF1_test: 0.425 \tF1u_test: 0.688\n"
          ]
        },
        {
          "name": "stderr",
          "output_type": "stream",
          "text": [
            " 10%|█         | 20/199 [00:38<05:15,  1.76s/it]"
          ]
        },
        {
          "name": "stdout",
          "output_type": "stream",
          "text": [
            "[14,    20] loss: 15.811\n"
          ]
        },
        {
          "name": "stderr",
          "output_type": "stream",
          "text": [
            " 20%|██        | 40/199 [01:16<04:40,  1.77s/it]"
          ]
        },
        {
          "name": "stdout",
          "output_type": "stream",
          "text": [
            "[14,    40] loss: 31.196\n"
          ]
        },
        {
          "name": "stderr",
          "output_type": "stream",
          "text": [
            " 30%|███       | 60/199 [01:53<04:42,  2.03s/it]"
          ]
        },
        {
          "name": "stdout",
          "output_type": "stream",
          "text": [
            "[14,    60] loss: 46.448\n"
          ]
        },
        {
          "name": "stderr",
          "output_type": "stream",
          "text": [
            " 40%|████      | 80/199 [02:30<03:32,  1.78s/it]"
          ]
        },
        {
          "name": "stdout",
          "output_type": "stream",
          "text": [
            "[14,    80] loss: 61.006\n"
          ]
        },
        {
          "name": "stderr",
          "output_type": "stream",
          "text": [
            " 50%|█████     | 100/199 [03:04<02:30,  1.52s/it]"
          ]
        },
        {
          "name": "stdout",
          "output_type": "stream",
          "text": [
            "[14,   100] loss: 76.658\n"
          ]
        },
        {
          "name": "stderr",
          "output_type": "stream",
          "text": [
            " 60%|██████    | 120/199 [03:41<03:02,  2.31s/it]"
          ]
        },
        {
          "name": "stdout",
          "output_type": "stream",
          "text": [
            "[14,   120] loss: 90.763\n"
          ]
        },
        {
          "name": "stderr",
          "output_type": "stream",
          "text": [
            " 70%|███████   | 140/199 [04:16<01:58,  2.01s/it]"
          ]
        },
        {
          "name": "stdout",
          "output_type": "stream",
          "text": [
            "[14,   140] loss: 105.144\n"
          ]
        },
        {
          "name": "stderr",
          "output_type": "stream",
          "text": [
            " 80%|████████  | 160/199 [04:52<01:16,  1.97s/it]"
          ]
        },
        {
          "name": "stdout",
          "output_type": "stream",
          "text": [
            "[14,   160] loss: 118.434\n"
          ]
        },
        {
          "name": "stderr",
          "output_type": "stream",
          "text": [
            " 90%|█████████ | 180/199 [05:28<00:32,  1.72s/it]"
          ]
        },
        {
          "name": "stdout",
          "output_type": "stream",
          "text": [
            "[14,   180] loss: 133.040\n"
          ]
        },
        {
          "name": "stderr",
          "output_type": "stream",
          "text": [
            "100%|██████████| 199/199 [06:04<00:00,  1.83s/it]\n"
          ]
        },
        {
          "name": "stdout",
          "output_type": "stream",
          "text": [
            "Epoch: 13 \tTrain Loss: 0.074 \tVal. Loss: 1.318 \tF1_train: 0.889 \tF1_test: 0.415 \tF1u_test: 0.686\n"
          ]
        },
        {
          "name": "stderr",
          "output_type": "stream",
          "text": [
            " 10%|█         | 20/199 [00:36<05:50,  1.96s/it]"
          ]
        },
        {
          "name": "stdout",
          "output_type": "stream",
          "text": [
            "[15,    20] loss: 13.250\n"
          ]
        },
        {
          "name": "stderr",
          "output_type": "stream",
          "text": [
            " 20%|██        | 40/199 [01:15<05:24,  2.04s/it]"
          ]
        },
        {
          "name": "stdout",
          "output_type": "stream",
          "text": [
            "[15,    40] loss: 28.530\n"
          ]
        },
        {
          "name": "stderr",
          "output_type": "stream",
          "text": [
            " 30%|███       | 60/199 [01:51<04:14,  1.83s/it]"
          ]
        },
        {
          "name": "stdout",
          "output_type": "stream",
          "text": [
            "[15,    60] loss: 41.643\n"
          ]
        },
        {
          "name": "stderr",
          "output_type": "stream",
          "text": [
            " 40%|████      | 80/199 [02:28<03:24,  1.72s/it]"
          ]
        },
        {
          "name": "stdout",
          "output_type": "stream",
          "text": [
            "[15,    80] loss: 57.228\n"
          ]
        },
        {
          "name": "stderr",
          "output_type": "stream",
          "text": [
            " 50%|█████     | 100/199 [03:05<03:02,  1.85s/it]"
          ]
        },
        {
          "name": "stdout",
          "output_type": "stream",
          "text": [
            "[15,   100] loss: 71.973\n"
          ]
        },
        {
          "name": "stderr",
          "output_type": "stream",
          "text": [
            " 60%|██████    | 120/199 [03:40<02:17,  1.73s/it]"
          ]
        },
        {
          "name": "stdout",
          "output_type": "stream",
          "text": [
            "[15,   120] loss: 86.792\n"
          ]
        },
        {
          "name": "stderr",
          "output_type": "stream",
          "text": [
            " 70%|███████   | 140/199 [04:16<01:28,  1.50s/it]"
          ]
        },
        {
          "name": "stdout",
          "output_type": "stream",
          "text": [
            "[15,   140] loss: 100.570\n"
          ]
        },
        {
          "name": "stderr",
          "output_type": "stream",
          "text": [
            " 80%|████████  | 160/199 [04:51<01:09,  1.78s/it]"
          ]
        },
        {
          "name": "stdout",
          "output_type": "stream",
          "text": [
            "[15,   160] loss: 114.430\n"
          ]
        },
        {
          "name": "stderr",
          "output_type": "stream",
          "text": [
            " 90%|█████████ | 180/199 [05:29<00:33,  1.75s/it]"
          ]
        },
        {
          "name": "stdout",
          "output_type": "stream",
          "text": [
            "[15,   180] loss: 128.483\n"
          ]
        },
        {
          "name": "stderr",
          "output_type": "stream",
          "text": [
            "100%|██████████| 199/199 [06:05<00:00,  1.84s/it]\n"
          ]
        },
        {
          "name": "stdout",
          "output_type": "stream",
          "text": [
            "Epoch: 14 \tTrain Loss: 0.071 \tVal. Loss: 1.407 \tF1_train: 0.895 \tF1_test: 0.421 \tF1u_test: 0.685\n"
          ]
        },
        {
          "name": "stderr",
          "output_type": "stream",
          "text": [
            " 10%|█         | 20/199 [00:37<06:09,  2.06s/it]"
          ]
        },
        {
          "name": "stdout",
          "output_type": "stream",
          "text": [
            "[16,    20] loss: 14.813\n"
          ]
        },
        {
          "name": "stderr",
          "output_type": "stream",
          "text": [
            " 20%|██        | 40/199 [01:12<05:25,  2.05s/it]"
          ]
        },
        {
          "name": "stdout",
          "output_type": "stream",
          "text": [
            "[16,    40] loss: 28.218\n"
          ]
        },
        {
          "name": "stderr",
          "output_type": "stream",
          "text": [
            " 30%|███       | 60/199 [01:48<04:32,  1.96s/it]"
          ]
        },
        {
          "name": "stdout",
          "output_type": "stream",
          "text": [
            "[16,    60] loss: 41.232\n"
          ]
        },
        {
          "name": "stderr",
          "output_type": "stream",
          "text": [
            " 40%|████      | 80/199 [02:25<03:27,  1.74s/it]"
          ]
        },
        {
          "name": "stdout",
          "output_type": "stream",
          "text": [
            "[16,    80] loss: 55.120\n"
          ]
        },
        {
          "name": "stderr",
          "output_type": "stream",
          "text": [
            " 50%|█████     | 100/199 [03:04<03:04,  1.87s/it]"
          ]
        },
        {
          "name": "stdout",
          "output_type": "stream",
          "text": [
            "[16,   100] loss: 69.723\n"
          ]
        },
        {
          "name": "stderr",
          "output_type": "stream",
          "text": [
            " 60%|██████    | 120/199 [03:38<02:04,  1.57s/it]"
          ]
        },
        {
          "name": "stdout",
          "output_type": "stream",
          "text": [
            "[16,   120] loss: 83.057\n"
          ]
        },
        {
          "name": "stderr",
          "output_type": "stream",
          "text": [
            " 70%|███████   | 140/199 [04:15<02:01,  2.05s/it]"
          ]
        },
        {
          "name": "stdout",
          "output_type": "stream",
          "text": [
            "[16,   140] loss: 97.670\n"
          ]
        },
        {
          "name": "stderr",
          "output_type": "stream",
          "text": [
            " 80%|████████  | 160/199 [04:52<00:58,  1.51s/it]"
          ]
        },
        {
          "name": "stdout",
          "output_type": "stream",
          "text": [
            "[16,   160] loss: 111.454\n"
          ]
        },
        {
          "name": "stderr",
          "output_type": "stream",
          "text": [
            " 90%|█████████ | 180/199 [05:31<00:39,  2.05s/it]"
          ]
        },
        {
          "name": "stdout",
          "output_type": "stream",
          "text": [
            "[16,   180] loss: 125.277\n"
          ]
        },
        {
          "name": "stderr",
          "output_type": "stream",
          "text": [
            "100%|██████████| 199/199 [06:05<00:00,  1.84s/it]\n"
          ]
        },
        {
          "name": "stdout",
          "output_type": "stream",
          "text": [
            "Epoch: 15 \tTrain Loss: 0.069 \tVal. Loss: 1.291 \tF1_train: 0.897 \tF1_test: 0.426 \tF1u_test: 0.688\n"
          ]
        },
        {
          "name": "stderr",
          "output_type": "stream",
          "text": [
            " 10%|█         | 20/199 [00:36<05:54,  1.98s/it]"
          ]
        },
        {
          "name": "stdout",
          "output_type": "stream",
          "text": [
            "[17,    20] loss: 13.438\n"
          ]
        },
        {
          "name": "stderr",
          "output_type": "stream",
          "text": [
            " 20%|██        | 40/199 [01:13<05:10,  1.95s/it]"
          ]
        },
        {
          "name": "stdout",
          "output_type": "stream",
          "text": [
            "[17,    40] loss: 27.422\n"
          ]
        },
        {
          "name": "stderr",
          "output_type": "stream",
          "text": [
            " 30%|███       | 60/199 [01:48<04:06,  1.78s/it]"
          ]
        },
        {
          "name": "stdout",
          "output_type": "stream",
          "text": [
            "[17,    60] loss: 40.281\n"
          ]
        },
        {
          "name": "stderr",
          "output_type": "stream",
          "text": [
            " 40%|████      | 80/199 [02:24<04:04,  2.06s/it]"
          ]
        },
        {
          "name": "stdout",
          "output_type": "stream",
          "text": [
            "[17,    80] loss: 54.098\n"
          ]
        },
        {
          "name": "stderr",
          "output_type": "stream",
          "text": [
            " 50%|█████     | 100/199 [03:02<02:33,  1.55s/it]"
          ]
        },
        {
          "name": "stdout",
          "output_type": "stream",
          "text": [
            "[17,   100] loss: 67.355\n"
          ]
        },
        {
          "name": "stderr",
          "output_type": "stream",
          "text": [
            " 60%|██████    | 120/199 [03:37<01:58,  1.50s/it]"
          ]
        },
        {
          "name": "stdout",
          "output_type": "stream",
          "text": [
            "[17,   120] loss: 80.501\n"
          ]
        },
        {
          "name": "stderr",
          "output_type": "stream",
          "text": [
            " 70%|███████   | 140/199 [04:14<02:15,  2.29s/it]"
          ]
        },
        {
          "name": "stdout",
          "output_type": "stream",
          "text": [
            "[17,   140] loss: 94.219\n"
          ]
        },
        {
          "name": "stderr",
          "output_type": "stream",
          "text": [
            " 80%|████████  | 160/199 [04:52<01:18,  2.02s/it]"
          ]
        },
        {
          "name": "stdout",
          "output_type": "stream",
          "text": [
            "[17,   160] loss: 109.508\n"
          ]
        },
        {
          "name": "stderr",
          "output_type": "stream",
          "text": [
            " 90%|█████████ | 180/199 [05:28<00:43,  2.28s/it]"
          ]
        },
        {
          "name": "stdout",
          "output_type": "stream",
          "text": [
            "[17,   180] loss: 123.216\n"
          ]
        },
        {
          "name": "stderr",
          "output_type": "stream",
          "text": [
            "100%|██████████| 199/199 [06:04<00:00,  1.83s/it]\n"
          ]
        },
        {
          "name": "stdout",
          "output_type": "stream",
          "text": [
            "Epoch: 16 \tTrain Loss: 0.069 \tVal. Loss: 1.303 \tF1_train: 0.898 \tF1_test: 0.415 \tF1u_test: 0.683\n"
          ]
        },
        {
          "name": "stderr",
          "output_type": "stream",
          "text": [
            " 10%|█         | 20/199 [00:35<04:32,  1.52s/it]"
          ]
        },
        {
          "name": "stdout",
          "output_type": "stream",
          "text": [
            "[18,    20] loss: 12.367\n"
          ]
        },
        {
          "name": "stderr",
          "output_type": "stream",
          "text": [
            " 20%|██        | 40/199 [01:13<04:54,  1.85s/it]"
          ]
        },
        {
          "name": "stdout",
          "output_type": "stream",
          "text": [
            "[18,    40] loss: 26.501\n"
          ]
        },
        {
          "name": "stderr",
          "output_type": "stream",
          "text": [
            " 30%|███       | 60/199 [01:50<04:12,  1.82s/it]"
          ]
        },
        {
          "name": "stdout",
          "output_type": "stream",
          "text": [
            "[18,    60] loss: 40.564\n"
          ]
        },
        {
          "name": "stderr",
          "output_type": "stream",
          "text": [
            " 40%|████      | 80/199 [02:27<03:35,  1.81s/it]"
          ]
        },
        {
          "name": "stdout",
          "output_type": "stream",
          "text": [
            "[18,    80] loss: 54.666\n"
          ]
        },
        {
          "name": "stderr",
          "output_type": "stream",
          "text": [
            " 50%|█████     | 100/199 [03:02<02:51,  1.74s/it]"
          ]
        },
        {
          "name": "stdout",
          "output_type": "stream",
          "text": [
            "[18,   100] loss: 67.069\n"
          ]
        },
        {
          "name": "stderr",
          "output_type": "stream",
          "text": [
            " 60%|██████    | 120/199 [03:38<02:38,  2.01s/it]"
          ]
        },
        {
          "name": "stdout",
          "output_type": "stream",
          "text": [
            "[18,   120] loss: 79.343\n"
          ]
        },
        {
          "name": "stderr",
          "output_type": "stream",
          "text": [
            " 70%|███████   | 140/199 [04:14<01:29,  1.51s/it]"
          ]
        },
        {
          "name": "stdout",
          "output_type": "stream",
          "text": [
            "[18,   140] loss: 92.039\n"
          ]
        },
        {
          "name": "stderr",
          "output_type": "stream",
          "text": [
            " 80%|████████  | 160/199 [04:49<01:09,  1.79s/it]"
          ]
        },
        {
          "name": "stdout",
          "output_type": "stream",
          "text": [
            "[18,   160] loss: 104.325\n"
          ]
        },
        {
          "name": "stderr",
          "output_type": "stream",
          "text": [
            " 90%|█████████ | 180/199 [05:26<00:43,  2.28s/it]"
          ]
        },
        {
          "name": "stdout",
          "output_type": "stream",
          "text": [
            "[18,   180] loss: 117.657\n"
          ]
        },
        {
          "name": "stderr",
          "output_type": "stream",
          "text": [
            "100%|██████████| 199/199 [06:00<00:00,  1.81s/it]\n"
          ]
        },
        {
          "name": "stdout",
          "output_type": "stream",
          "text": [
            "Epoch: 17 \tTrain Loss: 0.066 \tVal. Loss: 1.353 \tF1_train: 0.901 \tF1_test: 0.423 \tF1u_test: 0.687\n"
          ]
        },
        {
          "name": "stderr",
          "output_type": "stream",
          "text": [
            " 10%|█         | 20/199 [00:34<04:35,  1.54s/it]"
          ]
        },
        {
          "name": "stdout",
          "output_type": "stream",
          "text": [
            "[19,    20] loss: 12.805\n"
          ]
        },
        {
          "name": "stderr",
          "output_type": "stream",
          "text": [
            " 20%|██        | 40/199 [01:14<03:54,  1.48s/it]"
          ]
        },
        {
          "name": "stdout",
          "output_type": "stream",
          "text": [
            "[19,    40] loss: 25.679\n"
          ]
        },
        {
          "name": "stderr",
          "output_type": "stream",
          "text": [
            " 30%|███       | 60/199 [01:51<03:23,  1.46s/it]"
          ]
        },
        {
          "name": "stdout",
          "output_type": "stream",
          "text": [
            "[19,    60] loss: 38.091\n"
          ]
        },
        {
          "name": "stderr",
          "output_type": "stream",
          "text": [
            " 40%|████      | 80/199 [02:29<03:27,  1.75s/it]"
          ]
        },
        {
          "name": "stdout",
          "output_type": "stream",
          "text": [
            "[19,    80] loss: 51.129\n"
          ]
        },
        {
          "name": "stderr",
          "output_type": "stream",
          "text": [
            " 50%|█████     | 100/199 [03:06<04:19,  2.62s/it]"
          ]
        },
        {
          "name": "stdout",
          "output_type": "stream",
          "text": [
            "[19,   100] loss: 64.003\n"
          ]
        },
        {
          "name": "stderr",
          "output_type": "stream",
          "text": [
            " 60%|██████    | 120/199 [03:40<02:37,  2.00s/it]"
          ]
        },
        {
          "name": "stdout",
          "output_type": "stream",
          "text": [
            "[19,   120] loss: 77.262\n"
          ]
        },
        {
          "name": "stderr",
          "output_type": "stream",
          "text": [
            " 70%|███████   | 140/199 [04:15<02:09,  2.20s/it]"
          ]
        },
        {
          "name": "stdout",
          "output_type": "stream",
          "text": [
            "[19,   140] loss: 90.600\n"
          ]
        },
        {
          "name": "stderr",
          "output_type": "stream",
          "text": [
            " 80%|████████  | 160/199 [04:51<00:57,  1.48s/it]"
          ]
        },
        {
          "name": "stdout",
          "output_type": "stream",
          "text": [
            "[19,   160] loss: 103.364\n"
          ]
        },
        {
          "name": "stderr",
          "output_type": "stream",
          "text": [
            " 90%|█████████ | 180/199 [05:27<00:33,  1.74s/it]"
          ]
        },
        {
          "name": "stdout",
          "output_type": "stream",
          "text": [
            "[19,   180] loss: 115.905\n"
          ]
        },
        {
          "name": "stderr",
          "output_type": "stream",
          "text": [
            "100%|██████████| 199/199 [06:02<00:00,  1.82s/it]\n"
          ]
        },
        {
          "name": "stdout",
          "output_type": "stream",
          "text": [
            "Epoch: 18 \tTrain Loss: 0.064 \tVal. Loss: 1.258 \tF1_train: 0.903 \tF1_test: 0.424 \tF1u_test: 0.689\n"
          ]
        },
        {
          "name": "stderr",
          "output_type": "stream",
          "text": [
            " 10%|█         | 20/199 [00:37<04:34,  1.54s/it]"
          ]
        },
        {
          "name": "stdout",
          "output_type": "stream",
          "text": [
            "[20,    20] loss: 12.598\n"
          ]
        },
        {
          "name": "stderr",
          "output_type": "stream",
          "text": [
            " 20%|██        | 40/199 [01:16<06:37,  2.50s/it]"
          ]
        },
        {
          "name": "stdout",
          "output_type": "stream",
          "text": [
            "[20,    40] loss: 25.773\n"
          ]
        },
        {
          "name": "stderr",
          "output_type": "stream",
          "text": [
            " 30%|███       | 60/199 [01:54<04:02,  1.74s/it]"
          ]
        },
        {
          "name": "stdout",
          "output_type": "stream",
          "text": [
            "[20,    60] loss: 38.479\n"
          ]
        },
        {
          "name": "stderr",
          "output_type": "stream",
          "text": [
            " 40%|████      | 80/199 [02:32<04:00,  2.02s/it]"
          ]
        },
        {
          "name": "stdout",
          "output_type": "stream",
          "text": [
            "[20,    80] loss: 51.243\n"
          ]
        },
        {
          "name": "stderr",
          "output_type": "stream",
          "text": [
            " 50%|█████     | 100/199 [03:09<02:55,  1.77s/it]"
          ]
        },
        {
          "name": "stdout",
          "output_type": "stream",
          "text": [
            "[20,   100] loss: 64.716\n"
          ]
        },
        {
          "name": "stderr",
          "output_type": "stream",
          "text": [
            " 60%|██████    | 120/199 [03:46<02:15,  1.71s/it]"
          ]
        },
        {
          "name": "stdout",
          "output_type": "stream",
          "text": [
            "[20,   120] loss: 78.138\n"
          ]
        },
        {
          "name": "stderr",
          "output_type": "stream",
          "text": [
            " 70%|███████   | 140/199 [04:24<01:30,  1.53s/it]"
          ]
        },
        {
          "name": "stdout",
          "output_type": "stream",
          "text": [
            "[20,   140] loss: 91.435\n"
          ]
        },
        {
          "name": "stderr",
          "output_type": "stream",
          "text": [
            " 80%|████████  | 160/199 [05:00<01:12,  1.86s/it]"
          ]
        },
        {
          "name": "stdout",
          "output_type": "stream",
          "text": [
            "[20,   160] loss: 104.287\n"
          ]
        },
        {
          "name": "stderr",
          "output_type": "stream",
          "text": [
            " 90%|█████████ | 180/199 [05:38<00:38,  2.04s/it]"
          ]
        },
        {
          "name": "stdout",
          "output_type": "stream",
          "text": [
            "[20,   180] loss: 117.420\n"
          ]
        },
        {
          "name": "stderr",
          "output_type": "stream",
          "text": [
            "100%|██████████| 199/199 [06:14<00:00,  1.88s/it]\n"
          ]
        },
        {
          "name": "stdout",
          "output_type": "stream",
          "text": [
            "Epoch: 19 \tTrain Loss: 0.065 \tVal. Loss: 1.311 \tF1_train: 0.901 \tF1_test: 0.418 \tF1u_test: 0.683\n"
          ]
        },
        {
          "name": "stderr",
          "output_type": "stream",
          "text": [
            " 10%|█         | 20/199 [00:34<05:18,  1.78s/it]"
          ]
        },
        {
          "name": "stdout",
          "output_type": "stream",
          "text": [
            "[21,    20] loss: 12.735\n"
          ]
        },
        {
          "name": "stderr",
          "output_type": "stream",
          "text": [
            " 20%|██        | 40/199 [01:08<03:57,  1.49s/it]"
          ]
        },
        {
          "name": "stdout",
          "output_type": "stream",
          "text": [
            "[21,    40] loss: 25.125\n"
          ]
        },
        {
          "name": "stderr",
          "output_type": "stream",
          "text": [
            " 30%|███       | 60/199 [01:51<04:45,  2.06s/it]"
          ]
        },
        {
          "name": "stdout",
          "output_type": "stream",
          "text": [
            "[21,    60] loss: 38.257\n"
          ]
        },
        {
          "name": "stderr",
          "output_type": "stream",
          "text": [
            " 40%|████      | 80/199 [02:26<02:59,  1.51s/it]"
          ]
        },
        {
          "name": "stdout",
          "output_type": "stream",
          "text": [
            "[21,    80] loss: 50.684\n"
          ]
        },
        {
          "name": "stderr",
          "output_type": "stream",
          "text": [
            " 50%|█████     | 100/199 [03:04<02:27,  1.49s/it]"
          ]
        },
        {
          "name": "stdout",
          "output_type": "stream",
          "text": [
            "[21,   100] loss: 62.807\n"
          ]
        },
        {
          "name": "stderr",
          "output_type": "stream",
          "text": [
            " 60%|██████    | 120/199 [03:43<02:34,  1.96s/it]"
          ]
        },
        {
          "name": "stdout",
          "output_type": "stream",
          "text": [
            "[21,   120] loss: 75.933\n"
          ]
        },
        {
          "name": "stderr",
          "output_type": "stream",
          "text": [
            " 70%|███████   | 140/199 [04:20<02:00,  2.05s/it]"
          ]
        },
        {
          "name": "stdout",
          "output_type": "stream",
          "text": [
            "[21,   140] loss: 88.141\n"
          ]
        },
        {
          "name": "stderr",
          "output_type": "stream",
          "text": [
            " 80%|████████  | 160/199 [04:57<01:07,  1.73s/it]"
          ]
        },
        {
          "name": "stdout",
          "output_type": "stream",
          "text": [
            "[21,   160] loss: 100.725\n"
          ]
        },
        {
          "name": "stderr",
          "output_type": "stream",
          "text": [
            " 90%|█████████ | 180/199 [05:32<00:37,  1.98s/it]"
          ]
        },
        {
          "name": "stdout",
          "output_type": "stream",
          "text": [
            "[21,   180] loss: 112.742\n"
          ]
        },
        {
          "name": "stderr",
          "output_type": "stream",
          "text": [
            "100%|██████████| 199/199 [06:07<00:00,  1.85s/it]\n"
          ]
        },
        {
          "name": "stdout",
          "output_type": "stream",
          "text": [
            "Epoch: 20 \tTrain Loss: 0.063 \tVal. Loss: 1.265 \tF1_train: 0.904 \tF1_test: 0.430 \tF1u_test: 0.691\n"
          ]
        },
        {
          "name": "stderr",
          "output_type": "stream",
          "text": [
            " 10%|█         | 20/199 [00:35<04:26,  1.49s/it]"
          ]
        },
        {
          "name": "stdout",
          "output_type": "stream",
          "text": [
            "[22,    20] loss: 12.063\n"
          ]
        },
        {
          "name": "stderr",
          "output_type": "stream",
          "text": [
            " 20%|██        | 40/199 [01:10<04:40,  1.76s/it]"
          ]
        },
        {
          "name": "stdout",
          "output_type": "stream",
          "text": [
            "[22,    40] loss: 24.014\n"
          ]
        },
        {
          "name": "stderr",
          "output_type": "stream",
          "text": [
            " 30%|███       | 60/199 [01:47<03:33,  1.54s/it]"
          ]
        },
        {
          "name": "stdout",
          "output_type": "stream",
          "text": [
            "[22,    60] loss: 36.961\n"
          ]
        },
        {
          "name": "stderr",
          "output_type": "stream",
          "text": [
            " 40%|████      | 80/199 [02:22<02:57,  1.49s/it]"
          ]
        },
        {
          "name": "stdout",
          "output_type": "stream",
          "text": [
            "[22,    80] loss: 49.022\n"
          ]
        },
        {
          "name": "stderr",
          "output_type": "stream",
          "text": [
            " 50%|█████     | 100/199 [02:58<02:50,  1.72s/it]"
          ]
        },
        {
          "name": "stdout",
          "output_type": "stream",
          "text": [
            "[22,   100] loss: 60.617\n"
          ]
        },
        {
          "name": "stderr",
          "output_type": "stream",
          "text": [
            " 60%|██████    | 120/199 [03:33<02:56,  2.24s/it]"
          ]
        },
        {
          "name": "stdout",
          "output_type": "stream",
          "text": [
            "[22,   120] loss: 71.999\n"
          ]
        },
        {
          "name": "stderr",
          "output_type": "stream",
          "text": [
            " 70%|███████   | 140/199 [04:09<01:26,  1.47s/it]"
          ]
        },
        {
          "name": "stdout",
          "output_type": "stream",
          "text": [
            "[22,   140] loss: 84.610\n"
          ]
        },
        {
          "name": "stderr",
          "output_type": "stream",
          "text": [
            " 80%|████████  | 160/199 [04:45<01:16,  1.97s/it]"
          ]
        },
        {
          "name": "stdout",
          "output_type": "stream",
          "text": [
            "[22,   160] loss: 96.766\n"
          ]
        },
        {
          "name": "stderr",
          "output_type": "stream",
          "text": [
            " 90%|█████████ | 180/199 [05:19<00:31,  1.67s/it]"
          ]
        },
        {
          "name": "stdout",
          "output_type": "stream",
          "text": [
            "[22,   180] loss: 108.605\n"
          ]
        },
        {
          "name": "stderr",
          "output_type": "stream",
          "text": [
            "100%|██████████| 199/199 [05:55<00:00,  1.78s/it]\n"
          ]
        },
        {
          "name": "stdout",
          "output_type": "stream",
          "text": [
            "Epoch: 21 \tTrain Loss: 0.060 \tVal. Loss: 1.296 \tF1_train: 0.908 \tF1_test: 0.436 \tF1u_test: 0.692\n"
          ]
        },
        {
          "name": "stderr",
          "output_type": "stream",
          "text": [
            " 10%|█         | 20/199 [00:34<05:20,  1.79s/it]"
          ]
        },
        {
          "name": "stdout",
          "output_type": "stream",
          "text": [
            "[23,    20] loss: 11.867\n"
          ]
        },
        {
          "name": "stderr",
          "output_type": "stream",
          "text": [
            " 20%|██        | 40/199 [01:12<03:52,  1.46s/it]"
          ]
        },
        {
          "name": "stdout",
          "output_type": "stream",
          "text": [
            "[23,    40] loss: 24.584\n"
          ]
        },
        {
          "name": "stderr",
          "output_type": "stream",
          "text": [
            " 30%|███       | 60/199 [01:49<04:06,  1.77s/it]"
          ]
        },
        {
          "name": "stdout",
          "output_type": "stream",
          "text": [
            "[23,    60] loss: 36.501\n"
          ]
        },
        {
          "name": "stderr",
          "output_type": "stream",
          "text": [
            " 40%|████      | 80/199 [02:26<03:34,  1.80s/it]"
          ]
        },
        {
          "name": "stdout",
          "output_type": "stream",
          "text": [
            "[23,    80] loss: 49.201\n"
          ]
        },
        {
          "name": "stderr",
          "output_type": "stream",
          "text": [
            " 50%|█████     | 100/199 [03:02<02:33,  1.55s/it]"
          ]
        },
        {
          "name": "stdout",
          "output_type": "stream",
          "text": [
            "[23,   100] loss: 62.685\n"
          ]
        },
        {
          "name": "stderr",
          "output_type": "stream",
          "text": [
            " 60%|██████    | 120/199 [03:37<02:15,  1.71s/it]"
          ]
        },
        {
          "name": "stdout",
          "output_type": "stream",
          "text": [
            "[23,   120] loss: 74.699\n"
          ]
        },
        {
          "name": "stderr",
          "output_type": "stream",
          "text": [
            " 70%|███████   | 140/199 [04:14<01:31,  1.55s/it]"
          ]
        },
        {
          "name": "stdout",
          "output_type": "stream",
          "text": [
            "[23,   140] loss: 87.361\n"
          ]
        },
        {
          "name": "stderr",
          "output_type": "stream",
          "text": [
            " 80%|████████  | 160/199 [04:51<01:28,  2.27s/it]"
          ]
        },
        {
          "name": "stdout",
          "output_type": "stream",
          "text": [
            "[23,   160] loss: 99.807\n"
          ]
        },
        {
          "name": "stderr",
          "output_type": "stream",
          "text": [
            " 90%|█████████ | 180/199 [05:26<00:28,  1.49s/it]"
          ]
        },
        {
          "name": "stdout",
          "output_type": "stream",
          "text": [
            "[23,   180] loss: 111.001\n"
          ]
        },
        {
          "name": "stderr",
          "output_type": "stream",
          "text": [
            "100%|██████████| 199/199 [06:03<00:00,  1.83s/it]\n"
          ]
        },
        {
          "name": "stdout",
          "output_type": "stream",
          "text": [
            "Epoch: 22 \tTrain Loss: 0.061 \tVal. Loss: 1.257 \tF1_train: 0.907 \tF1_test: 0.427 \tF1u_test: 0.691\n"
          ]
        },
        {
          "name": "stderr",
          "output_type": "stream",
          "text": [
            " 10%|█         | 20/199 [00:35<05:06,  1.71s/it]"
          ]
        },
        {
          "name": "stdout",
          "output_type": "stream",
          "text": [
            "[24,    20] loss: 12.780\n"
          ]
        },
        {
          "name": "stderr",
          "output_type": "stream",
          "text": [
            " 20%|██        | 40/199 [01:12<06:27,  2.44s/it]"
          ]
        },
        {
          "name": "stdout",
          "output_type": "stream",
          "text": [
            "[24,    40] loss: 24.663\n"
          ]
        },
        {
          "name": "stderr",
          "output_type": "stream",
          "text": [
            " 30%|███       | 60/199 [01:49<04:48,  2.08s/it]"
          ]
        },
        {
          "name": "stdout",
          "output_type": "stream",
          "text": [
            "[24,    60] loss: 37.104\n"
          ]
        },
        {
          "name": "stderr",
          "output_type": "stream",
          "text": [
            " 40%|████      | 80/199 [02:25<04:00,  2.02s/it]"
          ]
        },
        {
          "name": "stdout",
          "output_type": "stream",
          "text": [
            "[24,    80] loss: 49.882\n"
          ]
        },
        {
          "name": "stderr",
          "output_type": "stream",
          "text": [
            " 50%|█████     | 100/199 [03:02<02:33,  1.55s/it]"
          ]
        },
        {
          "name": "stdout",
          "output_type": "stream",
          "text": [
            "[24,   100] loss: 62.017\n"
          ]
        },
        {
          "name": "stderr",
          "output_type": "stream",
          "text": [
            " 60%|██████    | 120/199 [03:39<02:25,  1.84s/it]"
          ]
        },
        {
          "name": "stdout",
          "output_type": "stream",
          "text": [
            "[24,   120] loss: 74.414\n"
          ]
        },
        {
          "name": "stderr",
          "output_type": "stream",
          "text": [
            " 70%|███████   | 140/199 [04:14<01:43,  1.75s/it]"
          ]
        },
        {
          "name": "stdout",
          "output_type": "stream",
          "text": [
            "[24,   140] loss: 86.097\n"
          ]
        },
        {
          "name": "stderr",
          "output_type": "stream",
          "text": [
            " 80%|████████  | 160/199 [04:49<00:58,  1.50s/it]"
          ]
        },
        {
          "name": "stdout",
          "output_type": "stream",
          "text": [
            "[24,   160] loss: 97.377\n"
          ]
        },
        {
          "name": "stderr",
          "output_type": "stream",
          "text": [
            " 90%|█████████ | 180/199 [05:26<00:37,  1.95s/it]"
          ]
        },
        {
          "name": "stdout",
          "output_type": "stream",
          "text": [
            "[24,   180] loss: 109.028\n"
          ]
        },
        {
          "name": "stderr",
          "output_type": "stream",
          "text": [
            "100%|██████████| 199/199 [06:00<00:00,  1.81s/it]\n"
          ]
        },
        {
          "name": "stdout",
          "output_type": "stream",
          "text": [
            "Epoch: 23 \tTrain Loss: 0.060 \tVal. Loss: 1.241 \tF1_train: 0.908 \tF1_test: 0.442 \tF1u_test: 0.696\n"
          ]
        },
        {
          "name": "stderr",
          "output_type": "stream",
          "text": [
            " 10%|█         | 20/199 [00:37<05:55,  1.99s/it]"
          ]
        },
        {
          "name": "stdout",
          "output_type": "stream",
          "text": [
            "[25,    20] loss: 12.029\n"
          ]
        },
        {
          "name": "stderr",
          "output_type": "stream",
          "text": [
            " 20%|██        | 40/199 [01:12<05:06,  1.93s/it]"
          ]
        },
        {
          "name": "stdout",
          "output_type": "stream",
          "text": [
            "[25,    40] loss: 23.495\n"
          ]
        },
        {
          "name": "stderr",
          "output_type": "stream",
          "text": [
            " 30%|███       | 60/199 [01:49<03:35,  1.55s/it]"
          ]
        },
        {
          "name": "stdout",
          "output_type": "stream",
          "text": [
            "[25,    60] loss: 34.768\n"
          ]
        },
        {
          "name": "stderr",
          "output_type": "stream",
          "text": [
            " 40%|████      | 80/199 [02:26<03:02,  1.53s/it]"
          ]
        },
        {
          "name": "stdout",
          "output_type": "stream",
          "text": [
            "[25,    80] loss: 46.778\n"
          ]
        },
        {
          "name": "stderr",
          "output_type": "stream",
          "text": [
            " 50%|█████     | 100/199 [03:03<03:48,  2.31s/it]"
          ]
        },
        {
          "name": "stdout",
          "output_type": "stream",
          "text": [
            "[25,   100] loss: 59.239\n"
          ]
        },
        {
          "name": "stderr",
          "output_type": "stream",
          "text": [
            " 60%|██████    | 120/199 [03:43<02:48,  2.14s/it]"
          ]
        },
        {
          "name": "stdout",
          "output_type": "stream",
          "text": [
            "[25,   120] loss: 71.490\n"
          ]
        },
        {
          "name": "stderr",
          "output_type": "stream",
          "text": [
            " 70%|███████   | 140/199 [04:19<01:25,  1.45s/it]"
          ]
        },
        {
          "name": "stdout",
          "output_type": "stream",
          "text": [
            "[25,   140] loss: 83.484\n"
          ]
        },
        {
          "name": "stderr",
          "output_type": "stream",
          "text": [
            " 80%|████████  | 160/199 [04:55<01:19,  2.03s/it]"
          ]
        },
        {
          "name": "stdout",
          "output_type": "stream",
          "text": [
            "[25,   160] loss: 95.373\n"
          ]
        },
        {
          "name": "stderr",
          "output_type": "stream",
          "text": [
            " 90%|█████████ | 180/199 [05:33<00:31,  1.68s/it]"
          ]
        },
        {
          "name": "stdout",
          "output_type": "stream",
          "text": [
            "[25,   180] loss: 106.932\n"
          ]
        },
        {
          "name": "stderr",
          "output_type": "stream",
          "text": [
            "100%|██████████| 199/199 [06:08<00:00,  1.85s/it]\n"
          ]
        },
        {
          "name": "stdout",
          "output_type": "stream",
          "text": [
            "Epoch: 24 \tTrain Loss: 0.059 \tVal. Loss: 1.262 \tF1_train: 0.909 \tF1_test: 0.444 \tF1u_test: 0.698\n"
          ]
        },
        {
          "name": "stderr",
          "output_type": "stream",
          "text": [
            " 10%|█         | 20/199 [00:34<04:28,  1.50s/it]"
          ]
        },
        {
          "name": "stdout",
          "output_type": "stream",
          "text": [
            "[26,    20] loss: 11.454\n"
          ]
        },
        {
          "name": "stderr",
          "output_type": "stream",
          "text": [
            " 20%|██        | 40/199 [01:09<05:14,  1.98s/it]"
          ]
        },
        {
          "name": "stdout",
          "output_type": "stream",
          "text": [
            "[26,    40] loss: 22.482\n"
          ]
        },
        {
          "name": "stderr",
          "output_type": "stream",
          "text": [
            " 30%|███       | 60/199 [01:44<03:27,  1.49s/it]"
          ]
        },
        {
          "name": "stdout",
          "output_type": "stream",
          "text": [
            "[26,    60] loss: 33.808\n"
          ]
        },
        {
          "name": "stderr",
          "output_type": "stream",
          "text": [
            " 40%|████      | 80/199 [02:22<04:05,  2.06s/it]"
          ]
        },
        {
          "name": "stdout",
          "output_type": "stream",
          "text": [
            "[26,    80] loss: 45.899\n"
          ]
        },
        {
          "name": "stderr",
          "output_type": "stream",
          "text": [
            " 50%|█████     | 100/199 [02:59<03:34,  2.16s/it]"
          ]
        },
        {
          "name": "stdout",
          "output_type": "stream",
          "text": [
            "[26,   100] loss: 58.809\n"
          ]
        },
        {
          "name": "stderr",
          "output_type": "stream",
          "text": [
            " 60%|██████    | 120/199 [03:36<02:15,  1.72s/it]"
          ]
        },
        {
          "name": "stdout",
          "output_type": "stream",
          "text": [
            "[26,   120] loss: 71.133\n"
          ]
        },
        {
          "name": "stderr",
          "output_type": "stream",
          "text": [
            " 70%|███████   | 140/199 [04:15<01:54,  1.95s/it]"
          ]
        },
        {
          "name": "stdout",
          "output_type": "stream",
          "text": [
            "[26,   140] loss: 83.271\n"
          ]
        },
        {
          "name": "stderr",
          "output_type": "stream",
          "text": [
            " 80%|████████  | 160/199 [04:54<01:24,  2.17s/it]"
          ]
        },
        {
          "name": "stdout",
          "output_type": "stream",
          "text": [
            "[26,   160] loss: 95.204\n"
          ]
        },
        {
          "name": "stderr",
          "output_type": "stream",
          "text": [
            " 90%|█████████ | 180/199 [05:32<00:29,  1.54s/it]"
          ]
        },
        {
          "name": "stdout",
          "output_type": "stream",
          "text": [
            "[26,   180] loss: 106.776\n"
          ]
        },
        {
          "name": "stderr",
          "output_type": "stream",
          "text": [
            "100%|██████████| 199/199 [06:08<00:00,  1.85s/it]\n"
          ]
        },
        {
          "name": "stdout",
          "output_type": "stream",
          "text": [
            "Epoch: 25 \tTrain Loss: 0.059 \tVal. Loss: 1.371 \tF1_train: 0.909 \tF1_test: 0.424 \tF1u_test: 0.689\n"
          ]
        },
        {
          "name": "stderr",
          "output_type": "stream",
          "text": [
            " 10%|█         | 20/199 [00:38<07:01,  2.35s/it]"
          ]
        },
        {
          "name": "stdout",
          "output_type": "stream",
          "text": [
            "[27,    20] loss: 13.285\n"
          ]
        },
        {
          "name": "stderr",
          "output_type": "stream",
          "text": [
            " 20%|██        | 40/199 [01:15<04:36,  1.74s/it]"
          ]
        },
        {
          "name": "stdout",
          "output_type": "stream",
          "text": [
            "[27,    40] loss: 24.862\n"
          ]
        },
        {
          "name": "stderr",
          "output_type": "stream",
          "text": [
            " 30%|███       | 60/199 [01:52<03:38,  1.57s/it]"
          ]
        },
        {
          "name": "stdout",
          "output_type": "stream",
          "text": [
            "[27,    60] loss: 35.921\n"
          ]
        },
        {
          "name": "stderr",
          "output_type": "stream",
          "text": [
            " 40%|████      | 80/199 [02:30<04:09,  2.10s/it]"
          ]
        },
        {
          "name": "stdout",
          "output_type": "stream",
          "text": [
            "[27,    80] loss: 47.784\n"
          ]
        },
        {
          "name": "stderr",
          "output_type": "stream",
          "text": [
            " 50%|█████     | 100/199 [03:08<02:54,  1.76s/it]"
          ]
        },
        {
          "name": "stdout",
          "output_type": "stream",
          "text": [
            "[27,   100] loss: 59.884\n"
          ]
        },
        {
          "name": "stderr",
          "output_type": "stream",
          "text": [
            " 60%|██████    | 120/199 [03:44<03:03,  2.33s/it]"
          ]
        },
        {
          "name": "stdout",
          "output_type": "stream",
          "text": [
            "[27,   120] loss: 71.964\n"
          ]
        },
        {
          "name": "stderr",
          "output_type": "stream",
          "text": [
            " 70%|███████   | 140/199 [04:19<02:13,  2.27s/it]"
          ]
        },
        {
          "name": "stdout",
          "output_type": "stream",
          "text": [
            "[27,   140] loss: 83.197\n"
          ]
        },
        {
          "name": "stderr",
          "output_type": "stream",
          "text": [
            " 80%|████████  | 160/199 [04:56<00:59,  1.51s/it]"
          ]
        },
        {
          "name": "stdout",
          "output_type": "stream",
          "text": [
            "[27,   160] loss: 94.672\n"
          ]
        },
        {
          "name": "stderr",
          "output_type": "stream",
          "text": [
            " 90%|█████████ | 180/199 [05:31<00:33,  1.78s/it]"
          ]
        },
        {
          "name": "stdout",
          "output_type": "stream",
          "text": [
            "[27,   180] loss: 105.197\n"
          ]
        },
        {
          "name": "stderr",
          "output_type": "stream",
          "text": [
            "100%|██████████| 199/199 [06:06<00:00,  1.84s/it]\n"
          ]
        },
        {
          "name": "stdout",
          "output_type": "stream",
          "text": [
            "Epoch: 26 \tTrain Loss: 0.058 \tVal. Loss: 1.227 \tF1_train: 0.910 \tF1_test: 0.435 \tF1u_test: 0.696\n"
          ]
        },
        {
          "name": "stderr",
          "output_type": "stream",
          "text": [
            " 10%|█         | 20/199 [00:38<06:15,  2.10s/it]"
          ]
        },
        {
          "name": "stdout",
          "output_type": "stream",
          "text": [
            "[28,    20] loss: 11.346\n"
          ]
        },
        {
          "name": "stderr",
          "output_type": "stream",
          "text": [
            " 20%|██        | 40/199 [01:16<05:58,  2.26s/it]"
          ]
        },
        {
          "name": "stdout",
          "output_type": "stream",
          "text": [
            "[28,    40] loss: 22.707\n"
          ]
        },
        {
          "name": "stderr",
          "output_type": "stream",
          "text": [
            " 30%|███       | 60/199 [01:55<04:08,  1.79s/it]"
          ]
        },
        {
          "name": "stdout",
          "output_type": "stream",
          "text": [
            "[28,    60] loss: 33.499\n"
          ]
        },
        {
          "name": "stderr",
          "output_type": "stream",
          "text": [
            " 40%|████      | 80/199 [02:34<03:38,  1.84s/it]"
          ]
        },
        {
          "name": "stdout",
          "output_type": "stream",
          "text": [
            "[28,    80] loss: 44.519\n"
          ]
        },
        {
          "name": "stderr",
          "output_type": "stream",
          "text": [
            " 50%|█████     | 100/199 [03:11<03:23,  2.05s/it]"
          ]
        },
        {
          "name": "stdout",
          "output_type": "stream",
          "text": [
            "[28,   100] loss: 56.087\n"
          ]
        },
        {
          "name": "stderr",
          "output_type": "stream",
          "text": [
            " 60%|██████    | 120/199 [03:49<02:20,  1.77s/it]"
          ]
        },
        {
          "name": "stdout",
          "output_type": "stream",
          "text": [
            "[28,   120] loss: 67.356\n"
          ]
        },
        {
          "name": "stderr",
          "output_type": "stream",
          "text": [
            " 70%|███████   | 140/199 [04:25<02:13,  2.26s/it]"
          ]
        },
        {
          "name": "stdout",
          "output_type": "stream",
          "text": [
            "[28,   140] loss: 78.420\n"
          ]
        },
        {
          "name": "stderr",
          "output_type": "stream",
          "text": [
            " 80%|████████  | 160/199 [05:00<01:27,  2.24s/it]"
          ]
        },
        {
          "name": "stdout",
          "output_type": "stream",
          "text": [
            "[28,   160] loss: 89.425\n"
          ]
        },
        {
          "name": "stderr",
          "output_type": "stream",
          "text": [
            " 90%|█████████ | 180/199 [05:36<00:28,  1.51s/it]"
          ]
        },
        {
          "name": "stdout",
          "output_type": "stream",
          "text": [
            "[28,   180] loss: 100.390\n"
          ]
        },
        {
          "name": "stderr",
          "output_type": "stream",
          "text": [
            "100%|██████████| 199/199 [06:13<00:00,  1.88s/it]\n"
          ]
        },
        {
          "name": "stdout",
          "output_type": "stream",
          "text": [
            "Epoch: 27 \tTrain Loss: 0.056 \tVal. Loss: 1.298 \tF1_train: 0.913 \tF1_test: 0.428 \tF1u_test: 0.690\n"
          ]
        },
        {
          "name": "stderr",
          "output_type": "stream",
          "text": [
            " 10%|█         | 20/199 [00:36<05:05,  1.71s/it]"
          ]
        },
        {
          "name": "stdout",
          "output_type": "stream",
          "text": [
            "[29,    20] loss: 10.981\n"
          ]
        },
        {
          "name": "stderr",
          "output_type": "stream",
          "text": [
            " 20%|██        | 40/199 [01:14<06:09,  2.32s/it]"
          ]
        },
        {
          "name": "stdout",
          "output_type": "stream",
          "text": [
            "[29,    40] loss: 21.805\n"
          ]
        },
        {
          "name": "stderr",
          "output_type": "stream",
          "text": [
            " 30%|███       | 60/199 [01:52<03:29,  1.51s/it]"
          ]
        },
        {
          "name": "stdout",
          "output_type": "stream",
          "text": [
            "[29,    60] loss: 33.435\n"
          ]
        },
        {
          "name": "stderr",
          "output_type": "stream",
          "text": [
            " 40%|████      | 80/199 [02:31<02:55,  1.48s/it]"
          ]
        },
        {
          "name": "stdout",
          "output_type": "stream",
          "text": [
            "[29,    80] loss: 44.967\n"
          ]
        },
        {
          "name": "stderr",
          "output_type": "stream",
          "text": [
            " 50%|█████     | 100/199 [03:07<02:29,  1.51s/it]"
          ]
        },
        {
          "name": "stdout",
          "output_type": "stream",
          "text": [
            "[29,   100] loss: 55.494\n"
          ]
        },
        {
          "name": "stderr",
          "output_type": "stream",
          "text": [
            " 60%|██████    | 120/199 [03:43<02:23,  1.81s/it]"
          ]
        },
        {
          "name": "stdout",
          "output_type": "stream",
          "text": [
            "[29,   120] loss: 66.042\n"
          ]
        },
        {
          "name": "stderr",
          "output_type": "stream",
          "text": [
            " 70%|███████   | 140/199 [04:23<01:44,  1.77s/it]"
          ]
        },
        {
          "name": "stdout",
          "output_type": "stream",
          "text": [
            "[29,   140] loss: 77.489\n"
          ]
        },
        {
          "name": "stderr",
          "output_type": "stream",
          "text": [
            " 80%|████████  | 160/199 [05:00<00:58,  1.51s/it]"
          ]
        },
        {
          "name": "stdout",
          "output_type": "stream",
          "text": [
            "[29,   160] loss: 88.140\n"
          ]
        },
        {
          "name": "stderr",
          "output_type": "stream",
          "text": [
            " 90%|█████████ | 180/199 [05:35<00:42,  2.24s/it]"
          ]
        },
        {
          "name": "stdout",
          "output_type": "stream",
          "text": [
            "[29,   180] loss: 99.085\n"
          ]
        },
        {
          "name": "stderr",
          "output_type": "stream",
          "text": [
            "100%|██████████| 199/199 [06:10<00:00,  1.86s/it]\n"
          ]
        },
        {
          "name": "stdout",
          "output_type": "stream",
          "text": [
            "Epoch: 28 \tTrain Loss: 0.055 \tVal. Loss: 1.303 \tF1_train: 0.913 \tF1_test: 0.420 \tF1u_test: 0.690\n"
          ]
        },
        {
          "name": "stderr",
          "output_type": "stream",
          "text": [
            " 10%|█         | 20/199 [00:36<06:48,  2.28s/it]"
          ]
        },
        {
          "name": "stdout",
          "output_type": "stream",
          "text": [
            "[30,    20] loss: 11.722\n"
          ]
        },
        {
          "name": "stderr",
          "output_type": "stream",
          "text": [
            " 20%|██        | 40/199 [01:14<04:34,  1.73s/it]"
          ]
        },
        {
          "name": "stdout",
          "output_type": "stream",
          "text": [
            "[30,    40] loss: 22.778\n"
          ]
        },
        {
          "name": "stderr",
          "output_type": "stream",
          "text": [
            " 30%|███       | 60/199 [01:48<04:05,  1.77s/it]"
          ]
        },
        {
          "name": "stdout",
          "output_type": "stream",
          "text": [
            "[30,    60] loss: 33.054\n"
          ]
        },
        {
          "name": "stderr",
          "output_type": "stream",
          "text": [
            " 40%|████      | 80/199 [02:25<03:58,  2.00s/it]"
          ]
        },
        {
          "name": "stdout",
          "output_type": "stream",
          "text": [
            "[30,    80] loss: 44.907\n"
          ]
        },
        {
          "name": "stderr",
          "output_type": "stream",
          "text": [
            " 50%|█████     | 100/199 [03:03<04:12,  2.55s/it]"
          ]
        },
        {
          "name": "stdout",
          "output_type": "stream",
          "text": [
            "[30,   100] loss: 56.443\n"
          ]
        },
        {
          "name": "stderr",
          "output_type": "stream",
          "text": [
            " 60%|██████    | 120/199 [03:38<02:51,  2.17s/it]"
          ]
        },
        {
          "name": "stdout",
          "output_type": "stream",
          "text": [
            "[30,   120] loss: 69.286\n"
          ]
        },
        {
          "name": "stderr",
          "output_type": "stream",
          "text": [
            " 70%|███████   | 140/199 [04:13<01:56,  1.97s/it]"
          ]
        },
        {
          "name": "stdout",
          "output_type": "stream",
          "text": [
            "[30,   140] loss: 81.110\n"
          ]
        },
        {
          "name": "stderr",
          "output_type": "stream",
          "text": [
            " 80%|████████  | 160/199 [04:49<01:07,  1.74s/it]"
          ]
        },
        {
          "name": "stdout",
          "output_type": "stream",
          "text": [
            "[30,   160] loss: 92.444\n"
          ]
        },
        {
          "name": "stderr",
          "output_type": "stream",
          "text": [
            " 90%|█████████ | 180/199 [05:25<00:36,  1.93s/it]"
          ]
        },
        {
          "name": "stdout",
          "output_type": "stream",
          "text": [
            "[30,   180] loss: 103.502\n"
          ]
        },
        {
          "name": "stderr",
          "output_type": "stream",
          "text": [
            "100%|██████████| 199/199 [06:00<00:00,  1.81s/it]\n"
          ]
        },
        {
          "name": "stdout",
          "output_type": "stream",
          "text": [
            "Epoch: 29 \tTrain Loss: 0.057 \tVal. Loss: 1.326 \tF1_train: 0.913 \tF1_test: 0.453 \tF1u_test: 0.699\n"
          ]
        },
        {
          "name": "stderr",
          "output_type": "stream",
          "text": [
            " 10%|█         | 20/199 [00:34<05:17,  1.77s/it]"
          ]
        },
        {
          "name": "stdout",
          "output_type": "stream",
          "text": [
            "[31,    20] loss: 10.912\n"
          ]
        },
        {
          "name": "stderr",
          "output_type": "stream",
          "text": [
            " 20%|██        | 40/199 [01:11<04:39,  1.76s/it]"
          ]
        },
        {
          "name": "stdout",
          "output_type": "stream",
          "text": [
            "[31,    40] loss: 21.642\n"
          ]
        },
        {
          "name": "stderr",
          "output_type": "stream",
          "text": [
            " 30%|███       | 60/199 [01:47<04:05,  1.77s/it]"
          ]
        },
        {
          "name": "stdout",
          "output_type": "stream",
          "text": [
            "[31,    60] loss: 32.185\n"
          ]
        },
        {
          "name": "stderr",
          "output_type": "stream",
          "text": [
            " 40%|████      | 80/199 [02:23<03:29,  1.76s/it]"
          ]
        },
        {
          "name": "stdout",
          "output_type": "stream",
          "text": [
            "[31,    80] loss: 42.709\n"
          ]
        },
        {
          "name": "stderr",
          "output_type": "stream",
          "text": [
            " 50%|█████     | 100/199 [02:59<02:54,  1.77s/it]"
          ]
        },
        {
          "name": "stdout",
          "output_type": "stream",
          "text": [
            "[31,   100] loss: 53.708\n"
          ]
        },
        {
          "name": "stderr",
          "output_type": "stream",
          "text": [
            " 60%|██████    | 120/199 [03:35<02:04,  1.57s/it]"
          ]
        },
        {
          "name": "stdout",
          "output_type": "stream",
          "text": [
            "[31,   120] loss: 65.303\n"
          ]
        },
        {
          "name": "stderr",
          "output_type": "stream",
          "text": [
            " 70%|███████   | 140/199 [04:12<01:38,  1.67s/it]"
          ]
        },
        {
          "name": "stdout",
          "output_type": "stream",
          "text": [
            "[31,   140] loss: 76.044\n"
          ]
        },
        {
          "name": "stderr",
          "output_type": "stream",
          "text": [
            " 80%|████████  | 160/199 [04:48<00:59,  1.52s/it]"
          ]
        },
        {
          "name": "stdout",
          "output_type": "stream",
          "text": [
            "[31,   160] loss: 86.365\n"
          ]
        },
        {
          "name": "stderr",
          "output_type": "stream",
          "text": [
            " 90%|█████████ | 180/199 [05:26<00:46,  2.44s/it]"
          ]
        },
        {
          "name": "stdout",
          "output_type": "stream",
          "text": [
            "[31,   180] loss: 97.380\n"
          ]
        },
        {
          "name": "stderr",
          "output_type": "stream",
          "text": [
            "100%|██████████| 199/199 [06:02<00:00,  1.82s/it]\n"
          ]
        },
        {
          "name": "stdout",
          "output_type": "stream",
          "text": [
            "Epoch: 30 \tTrain Loss: 0.054 \tVal. Loss: 1.322 \tF1_train: 0.915 \tF1_test: 0.439 \tF1u_test: 0.696\n"
          ]
        },
        {
          "name": "stderr",
          "output_type": "stream",
          "text": [
            " 10%|█         | 20/199 [00:34<04:58,  1.67s/it]"
          ]
        },
        {
          "name": "stdout",
          "output_type": "stream",
          "text": [
            "[32,    20] loss: 10.360\n"
          ]
        },
        {
          "name": "stderr",
          "output_type": "stream",
          "text": [
            " 20%|██        | 40/199 [01:08<04:49,  1.82s/it]"
          ]
        },
        {
          "name": "stdout",
          "output_type": "stream",
          "text": [
            "[32,    40] loss: 20.964\n"
          ]
        },
        {
          "name": "stderr",
          "output_type": "stream",
          "text": [
            " 30%|███       | 60/199 [01:44<04:28,  1.93s/it]"
          ]
        },
        {
          "name": "stdout",
          "output_type": "stream",
          "text": [
            "[32,    60] loss: 32.128\n"
          ]
        },
        {
          "name": "stderr",
          "output_type": "stream",
          "text": [
            " 40%|████      | 80/199 [02:20<03:22,  1.70s/it]"
          ]
        },
        {
          "name": "stdout",
          "output_type": "stream",
          "text": [
            "[32,    80] loss: 43.936\n"
          ]
        },
        {
          "name": "stderr",
          "output_type": "stream",
          "text": [
            " 50%|█████     | 100/199 [02:55<03:10,  1.93s/it]"
          ]
        },
        {
          "name": "stdout",
          "output_type": "stream",
          "text": [
            "[32,   100] loss: 54.710\n"
          ]
        },
        {
          "name": "stderr",
          "output_type": "stream",
          "text": [
            " 60%|██████    | 120/199 [03:30<02:14,  1.71s/it]"
          ]
        },
        {
          "name": "stdout",
          "output_type": "stream",
          "text": [
            "[32,   120] loss: 65.383\n"
          ]
        },
        {
          "name": "stderr",
          "output_type": "stream",
          "text": [
            " 70%|███████   | 140/199 [04:07<01:42,  1.74s/it]"
          ]
        },
        {
          "name": "stdout",
          "output_type": "stream",
          "text": [
            "[32,   140] loss: 76.062\n"
          ]
        },
        {
          "name": "stderr",
          "output_type": "stream",
          "text": [
            " 80%|████████  | 160/199 [04:45<01:29,  2.29s/it]"
          ]
        },
        {
          "name": "stdout",
          "output_type": "stream",
          "text": [
            "[32,   160] loss: 86.586\n"
          ]
        },
        {
          "name": "stderr",
          "output_type": "stream",
          "text": [
            " 90%|█████████ | 180/199 [05:20<00:28,  1.52s/it]"
          ]
        },
        {
          "name": "stdout",
          "output_type": "stream",
          "text": [
            "[32,   180] loss: 96.969\n"
          ]
        },
        {
          "name": "stderr",
          "output_type": "stream",
          "text": [
            "100%|██████████| 199/199 [05:55<00:00,  1.79s/it]\n"
          ]
        },
        {
          "name": "stdout",
          "output_type": "stream",
          "text": [
            "Epoch: 31 \tTrain Loss: 0.054 \tVal. Loss: 1.362 \tF1_train: 0.914 \tF1_test: 0.470 \tF1u_test: 0.708\n"
          ]
        },
        {
          "name": "stderr",
          "output_type": "stream",
          "text": [
            " 10%|█         | 20/199 [00:35<05:49,  1.95s/it]"
          ]
        },
        {
          "name": "stdout",
          "output_type": "stream",
          "text": [
            "[33,    20] loss: 10.932\n"
          ]
        },
        {
          "name": "stderr",
          "output_type": "stream",
          "text": [
            " 20%|██        | 40/199 [01:12<04:36,  1.74s/it]"
          ]
        },
        {
          "name": "stdout",
          "output_type": "stream",
          "text": [
            "[33,    40] loss: 22.450\n"
          ]
        },
        {
          "name": "stderr",
          "output_type": "stream",
          "text": [
            " 30%|███       | 60/199 [01:48<03:58,  1.72s/it]"
          ]
        },
        {
          "name": "stdout",
          "output_type": "stream",
          "text": [
            "[33,    60] loss: 33.939\n"
          ]
        },
        {
          "name": "stderr",
          "output_type": "stream",
          "text": [
            " 40%|████      | 80/199 [02:23<02:54,  1.47s/it]"
          ]
        },
        {
          "name": "stdout",
          "output_type": "stream",
          "text": [
            "[33,    80] loss: 44.751\n"
          ]
        },
        {
          "name": "stderr",
          "output_type": "stream",
          "text": [
            " 50%|█████     | 100/199 [03:00<02:28,  1.50s/it]"
          ]
        },
        {
          "name": "stdout",
          "output_type": "stream",
          "text": [
            "[33,   100] loss: 55.506\n"
          ]
        },
        {
          "name": "stderr",
          "output_type": "stream",
          "text": [
            " 60%|██████    | 120/199 [03:35<02:18,  1.75s/it]"
          ]
        },
        {
          "name": "stdout",
          "output_type": "stream",
          "text": [
            "[33,   120] loss: 67.244\n"
          ]
        },
        {
          "name": "stderr",
          "output_type": "stream",
          "text": [
            " 70%|███████   | 140/199 [04:13<02:22,  2.41s/it]"
          ]
        },
        {
          "name": "stdout",
          "output_type": "stream",
          "text": [
            "[33,   140] loss: 78.749\n"
          ]
        },
        {
          "name": "stderr",
          "output_type": "stream",
          "text": [
            " 80%|████████  | 160/199 [04:51<01:41,  2.60s/it]"
          ]
        },
        {
          "name": "stdout",
          "output_type": "stream",
          "text": [
            "[33,   160] loss: 90.138\n"
          ]
        },
        {
          "name": "stderr",
          "output_type": "stream",
          "text": [
            " 90%|█████████ | 180/199 [05:26<00:29,  1.56s/it]"
          ]
        },
        {
          "name": "stdout",
          "output_type": "stream",
          "text": [
            "[33,   180] loss: 100.988\n"
          ]
        },
        {
          "name": "stderr",
          "output_type": "stream",
          "text": [
            "100%|██████████| 199/199 [05:59<00:00,  1.81s/it]\n"
          ]
        },
        {
          "name": "stdout",
          "output_type": "stream",
          "text": [
            "Epoch: 32 \tTrain Loss: 0.055 \tVal. Loss: 1.295 \tF1_train: 0.913 \tF1_test: 0.436 \tF1u_test: 0.693\n"
          ]
        },
        {
          "name": "stderr",
          "output_type": "stream",
          "text": [
            " 10%|█         | 20/199 [00:35<05:50,  1.96s/it]"
          ]
        },
        {
          "name": "stdout",
          "output_type": "stream",
          "text": [
            "[34,    20] loss: 9.770\n"
          ]
        },
        {
          "name": "stderr",
          "output_type": "stream",
          "text": [
            " 20%|██        | 40/199 [01:10<04:28,  1.69s/it]"
          ]
        },
        {
          "name": "stdout",
          "output_type": "stream",
          "text": [
            "[34,    40] loss: 20.198\n"
          ]
        },
        {
          "name": "stderr",
          "output_type": "stream",
          "text": [
            " 30%|███       | 60/199 [01:49<04:28,  1.93s/it]"
          ]
        },
        {
          "name": "stdout",
          "output_type": "stream",
          "text": [
            "[34,    60] loss: 30.521\n"
          ]
        },
        {
          "name": "stderr",
          "output_type": "stream",
          "text": [
            " 40%|████      | 80/199 [02:23<03:57,  2.00s/it]"
          ]
        },
        {
          "name": "stdout",
          "output_type": "stream",
          "text": [
            "[34,    80] loss: 40.665\n"
          ]
        },
        {
          "name": "stderr",
          "output_type": "stream",
          "text": [
            " 50%|█████     | 100/199 [03:00<02:27,  1.49s/it]"
          ]
        },
        {
          "name": "stdout",
          "output_type": "stream",
          "text": [
            "[34,   100] loss: 51.150\n"
          ]
        },
        {
          "name": "stderr",
          "output_type": "stream",
          "text": [
            " 60%|██████    | 120/199 [03:36<02:12,  1.68s/it]"
          ]
        },
        {
          "name": "stdout",
          "output_type": "stream",
          "text": [
            "[34,   120] loss: 61.893\n"
          ]
        },
        {
          "name": "stderr",
          "output_type": "stream",
          "text": [
            " 70%|███████   | 140/199 [04:14<02:24,  2.44s/it]"
          ]
        },
        {
          "name": "stdout",
          "output_type": "stream",
          "text": [
            "[34,   140] loss: 72.821\n"
          ]
        },
        {
          "name": "stderr",
          "output_type": "stream",
          "text": [
            " 80%|████████  | 160/199 [04:49<01:08,  1.75s/it]"
          ]
        },
        {
          "name": "stdout",
          "output_type": "stream",
          "text": [
            "[34,   160] loss: 83.129\n"
          ]
        },
        {
          "name": "stderr",
          "output_type": "stream",
          "text": [
            " 90%|█████████ | 180/199 [05:26<00:28,  1.49s/it]"
          ]
        },
        {
          "name": "stdout",
          "output_type": "stream",
          "text": [
            "[34,   180] loss: 93.278\n"
          ]
        },
        {
          "name": "stderr",
          "output_type": "stream",
          "text": [
            "100%|██████████| 199/199 [05:58<00:00,  1.80s/it]\n"
          ]
        },
        {
          "name": "stdout",
          "output_type": "stream",
          "text": [
            "Epoch: 33 \tTrain Loss: 0.051 \tVal. Loss: 1.408 \tF1_train: 0.917 \tF1_test: 0.440 \tF1u_test: 0.694\n"
          ]
        },
        {
          "name": "stderr",
          "output_type": "stream",
          "text": [
            " 10%|█         | 20/199 [00:35<04:35,  1.54s/it]"
          ]
        },
        {
          "name": "stdout",
          "output_type": "stream",
          "text": [
            "[35,    20] loss: 11.065\n"
          ]
        },
        {
          "name": "stderr",
          "output_type": "stream",
          "text": [
            " 20%|██        | 40/199 [01:10<04:01,  1.52s/it]"
          ]
        },
        {
          "name": "stdout",
          "output_type": "stream",
          "text": [
            "[35,    40] loss: 21.480\n"
          ]
        },
        {
          "name": "stderr",
          "output_type": "stream",
          "text": [
            " 30%|███       | 60/199 [01:45<03:34,  1.54s/it]"
          ]
        },
        {
          "name": "stdout",
          "output_type": "stream",
          "text": [
            "[35,    60] loss: 32.741\n"
          ]
        },
        {
          "name": "stderr",
          "output_type": "stream",
          "text": [
            " 40%|████      | 80/199 [02:22<03:33,  1.79s/it]"
          ]
        },
        {
          "name": "stdout",
          "output_type": "stream",
          "text": [
            "[35,    80] loss: 43.925\n"
          ]
        },
        {
          "name": "stderr",
          "output_type": "stream",
          "text": [
            " 50%|█████     | 100/199 [02:58<03:09,  1.92s/it]"
          ]
        },
        {
          "name": "stdout",
          "output_type": "stream",
          "text": [
            "[35,   100] loss: 55.025\n"
          ]
        },
        {
          "name": "stderr",
          "output_type": "stream",
          "text": [
            " 60%|██████    | 120/199 [03:34<02:36,  1.98s/it]"
          ]
        },
        {
          "name": "stdout",
          "output_type": "stream",
          "text": [
            "[35,   120] loss: 66.901\n"
          ]
        },
        {
          "name": "stderr",
          "output_type": "stream",
          "text": [
            " 70%|███████   | 140/199 [04:11<01:54,  1.95s/it]"
          ]
        },
        {
          "name": "stdout",
          "output_type": "stream",
          "text": [
            "[35,   140] loss: 78.796\n"
          ]
        },
        {
          "name": "stderr",
          "output_type": "stream",
          "text": [
            " 80%|████████  | 160/199 [04:48<00:59,  1.53s/it]"
          ]
        },
        {
          "name": "stdout",
          "output_type": "stream",
          "text": [
            "[35,   160] loss: 90.018\n"
          ]
        },
        {
          "name": "stderr",
          "output_type": "stream",
          "text": [
            " 90%|█████████ | 180/199 [05:23<00:32,  1.72s/it]"
          ]
        },
        {
          "name": "stdout",
          "output_type": "stream",
          "text": [
            "[35,   180] loss: 100.398\n"
          ]
        },
        {
          "name": "stderr",
          "output_type": "stream",
          "text": [
            "100%|██████████| 199/199 [05:57<00:00,  1.80s/it]\n"
          ]
        },
        {
          "name": "stdout",
          "output_type": "stream",
          "text": [
            "Epoch: 34 \tTrain Loss: 0.055 \tVal. Loss: 1.300 \tF1_train: 0.914 \tF1_test: 0.438 \tF1u_test: 0.696\n"
          ]
        },
        {
          "name": "stderr",
          "output_type": "stream",
          "text": [
            " 10%|█         | 20/199 [00:33<05:52,  1.97s/it]"
          ]
        },
        {
          "name": "stdout",
          "output_type": "stream",
          "text": [
            "[36,    20] loss: 9.810\n"
          ]
        },
        {
          "name": "stderr",
          "output_type": "stream",
          "text": [
            " 20%|██        | 40/199 [01:10<06:31,  2.46s/it]"
          ]
        },
        {
          "name": "stdout",
          "output_type": "stream",
          "text": [
            "[36,    40] loss: 20.970\n"
          ]
        },
        {
          "name": "stderr",
          "output_type": "stream",
          "text": [
            " 30%|███       | 60/199 [01:47<04:23,  1.89s/it]"
          ]
        },
        {
          "name": "stdout",
          "output_type": "stream",
          "text": [
            "[36,    60] loss: 31.692\n"
          ]
        },
        {
          "name": "stderr",
          "output_type": "stream",
          "text": [
            " 40%|████      | 80/199 [02:22<03:24,  1.72s/it]"
          ]
        },
        {
          "name": "stdout",
          "output_type": "stream",
          "text": [
            "[36,    80] loss: 42.177\n"
          ]
        },
        {
          "name": "stderr",
          "output_type": "stream",
          "text": [
            " 50%|█████     | 100/199 [02:58<03:18,  2.00s/it]"
          ]
        },
        {
          "name": "stdout",
          "output_type": "stream",
          "text": [
            "[36,   100] loss: 52.361\n"
          ]
        },
        {
          "name": "stderr",
          "output_type": "stream",
          "text": [
            " 60%|██████    | 120/199 [03:35<02:35,  1.96s/it]"
          ]
        },
        {
          "name": "stdout",
          "output_type": "stream",
          "text": [
            "[36,   120] loss: 63.584\n"
          ]
        },
        {
          "name": "stderr",
          "output_type": "stream",
          "text": [
            " 70%|███████   | 140/199 [04:11<01:32,  1.57s/it]"
          ]
        },
        {
          "name": "stdout",
          "output_type": "stream",
          "text": [
            "[36,   140] loss: 73.742\n"
          ]
        },
        {
          "name": "stderr",
          "output_type": "stream",
          "text": [
            " 80%|████████  | 160/199 [04:46<01:26,  2.22s/it]"
          ]
        },
        {
          "name": "stdout",
          "output_type": "stream",
          "text": [
            "[36,   160] loss: 83.996\n"
          ]
        },
        {
          "name": "stderr",
          "output_type": "stream",
          "text": [
            " 90%|█████████ | 180/199 [05:23<00:33,  1.79s/it]"
          ]
        },
        {
          "name": "stdout",
          "output_type": "stream",
          "text": [
            "[36,   180] loss: 94.337\n"
          ]
        },
        {
          "name": "stderr",
          "output_type": "stream",
          "text": [
            "100%|██████████| 199/199 [05:59<00:00,  1.81s/it]\n"
          ]
        },
        {
          "name": "stdout",
          "output_type": "stream",
          "text": [
            "Epoch: 35 \tTrain Loss: 0.053 \tVal. Loss: 1.319 \tF1_train: 0.916 \tF1_test: 0.441 \tF1u_test: 0.696\n"
          ]
        },
        {
          "name": "stderr",
          "output_type": "stream",
          "text": [
            " 10%|█         | 20/199 [00:35<05:12,  1.75s/it]"
          ]
        },
        {
          "name": "stdout",
          "output_type": "stream",
          "text": [
            "[37,    20] loss: 10.016\n"
          ]
        },
        {
          "name": "stderr",
          "output_type": "stream",
          "text": [
            " 20%|██        | 40/199 [01:14<05:21,  2.02s/it]"
          ]
        },
        {
          "name": "stdout",
          "output_type": "stream",
          "text": [
            "[37,    40] loss: 20.176\n"
          ]
        },
        {
          "name": "stderr",
          "output_type": "stream",
          "text": [
            " 30%|███       | 60/199 [01:50<05:23,  2.33s/it]"
          ]
        },
        {
          "name": "stdout",
          "output_type": "stream",
          "text": [
            "[37,    60] loss: 30.952\n"
          ]
        },
        {
          "name": "stderr",
          "output_type": "stream",
          "text": [
            " 40%|████      | 80/199 [02:27<04:33,  2.29s/it]"
          ]
        },
        {
          "name": "stdout",
          "output_type": "stream",
          "text": [
            "[37,    80] loss: 41.290\n"
          ]
        },
        {
          "name": "stderr",
          "output_type": "stream",
          "text": [
            " 50%|█████     | 100/199 [03:03<02:56,  1.78s/it]"
          ]
        },
        {
          "name": "stdout",
          "output_type": "stream",
          "text": [
            "[37,   100] loss: 51.703\n"
          ]
        },
        {
          "name": "stderr",
          "output_type": "stream",
          "text": [
            " 60%|██████    | 120/199 [03:39<02:21,  1.79s/it]"
          ]
        },
        {
          "name": "stdout",
          "output_type": "stream",
          "text": [
            "[37,   120] loss: 61.930\n"
          ]
        },
        {
          "name": "stderr",
          "output_type": "stream",
          "text": [
            " 70%|███████   | 140/199 [04:15<01:43,  1.76s/it]"
          ]
        },
        {
          "name": "stdout",
          "output_type": "stream",
          "text": [
            "[37,   140] loss: 72.724\n"
          ]
        },
        {
          "name": "stderr",
          "output_type": "stream",
          "text": [
            " 80%|████████  | 160/199 [04:50<00:58,  1.50s/it]"
          ]
        },
        {
          "name": "stdout",
          "output_type": "stream",
          "text": [
            "[37,   160] loss: 82.822\n"
          ]
        },
        {
          "name": "stderr",
          "output_type": "stream",
          "text": [
            " 90%|█████████ | 180/199 [05:30<00:43,  2.27s/it]"
          ]
        },
        {
          "name": "stdout",
          "output_type": "stream",
          "text": [
            "[37,   180] loss: 94.017\n"
          ]
        },
        {
          "name": "stderr",
          "output_type": "stream",
          "text": [
            "100%|██████████| 199/199 [06:04<00:00,  2.03s/it]"
          ]
        }
      ]
    },
    {
      "cell_type": "code",
      "metadata": {
        "id": "hEEuUtjRKLLC"
      },
      "source": [
        "wandb.finish()"
      ],
      "execution_count": null,
      "outputs": []
    },
    {
      "cell_type": "code",
      "metadata": {
        "id": "4YseWptam3Bk"
      },
      "source": [
        ""
      ],
      "execution_count": null,
      "outputs": []
    }
  ]
}